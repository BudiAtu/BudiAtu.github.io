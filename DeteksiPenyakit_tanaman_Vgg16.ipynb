{
  "nbformat": 4,
  "nbformat_minor": 0,
  "metadata": {
    "colab": {
      "name": "DeteksiPenyakit_tanaman_Vgg16.ipynb",
      "provenance": [],
      "authorship_tag": "ABX9TyORFe9w6rB8BdS+UMaMy2qk",
      "include_colab_link": true
    },
    "kernelspec": {
      "name": "python3",
      "display_name": "Python 3"
    },
    "language_info": {
      "name": "python"
    }
  },
  "cells": [
    {
      "cell_type": "markdown",
      "metadata": {
        "id": "view-in-github",
        "colab_type": "text"
      },
      "source": [
        "<a href=\"https://colab.research.google.com/github/BudiAtu/BudiAtu.github.io/blob/main/DeteksiPenyakit_tanaman_Vgg16.ipynb\" target=\"_parent\"><img src=\"https://colab.research.google.com/assets/colab-badge.svg\" alt=\"Open In Colab\"/></a>"
      ]
    },
    {
      "cell_type": "markdown",
      "metadata": {
        "id": "PmI2cy4Rmozg"
      },
      "source": [
        "## **Klasifikasi 3 Jenis Penyakit Cabai**\n"
      ]
    },
    {
      "cell_type": "markdown",
      "metadata": {
        "id": "rZuisFzcnIZ6"
      },
      "source": [
        "## Mengambil Dataset dari **Github**"
      ]
    },
    {
      "cell_type": "code",
      "metadata": {
        "id": "5JFRQIOyzKJp"
      },
      "source": [
        "import numpy as np\n",
        "import os\n",
        "import matplotlib.pyplot as plt\n",
        "plt.style.use('default')\n",
        "from skimage.io import imread\n",
        "from sklearn.metrics import classification_report, confusion_matrix\n",
        "from sklearn.model_selection import train_test_split\n",
        "\n",
        "\n",
        "import keras\n",
        "import keras.backend as K\n",
        "from keras.preprocessing.image import load_img, img_to_array, ImageDataGenerator\n",
        "from keras.utils.np_utils import to_categorical\n",
        "\n",
        "from keras.applications.vgg16 import VGG16\n",
        "from keras.utils.data_utils import get_file\n",
        "\n",
        "from keras import layers\n",
        "from keras.models import Sequential, Model\n",
        "from keras.callbacks import EarlyStopping, ModelCheckpoint\n",
        "\n",
        "\n",
        "from sklearn.model_selection import train_test_split"
      ],
      "execution_count": 6,
      "outputs": []
    },
    {
      "cell_type": "code",
      "metadata": {
        "id": "i7SBOSwUmXTH",
        "colab": {
          "base_uri": "https://localhost:8080/"
        },
        "outputId": "c497dea5-875b-42c1-d827-6d47d0b7784f"
      },
      "source": [
        "!apt-get install subversion > /dev/null\n",
        "\n",
        "!svn export https://github.com/BudiAtu/Convolutional-Neural-Network-model-classification/tree/main/Dataset"
      ],
      "execution_count": 8,
      "outputs": [
        {
          "output_type": "stream",
          "name": "stdout",
          "text": [
            "svn: E170000: URL 'https://github.com/BudiAtu/Convolutional-Neural-Network-model-classification/tree/main/Dataset' doesn't exist\n"
          ]
        }
      ]
    }
  ]
}