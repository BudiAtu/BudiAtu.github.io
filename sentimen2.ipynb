{
  "nbformat": 4,
  "nbformat_minor": 0,
  "metadata": {
    "colab": {
      "name": "sentimen2.ipynb",
      "provenance": [],
      "include_colab_link": true
    },
    "kernelspec": {
      "display_name": "Python 3 (ipykernel)",
      "language": "python",
      "name": "python3"
    },
    "language_info": {
      "codemirror_mode": {
        "name": "ipython",
        "version": 3
      },
      "file_extension": ".py",
      "mimetype": "text/x-python",
      "name": "python",
      "nbconvert_exporter": "python",
      "pygments_lexer": "ipython3",
      "version": "3.9.7"
    }
  },
  "cells": [
    {
      "cell_type": "markdown",
      "metadata": {
        "id": "view-in-github",
        "colab_type": "text"
      },
      "source": [
        "<a href=\"https://colab.research.google.com/github/BudiAtu/BudiAtu.github.io/blob/main/sentimen2.ipynb\" target=\"_parent\"><img src=\"https://colab.research.google.com/assets/colab-badge.svg\" alt=\"Open In Colab\"/></a>"
      ]
    },
    {
      "cell_type": "code",
      "metadata": {
        "colab": {
          "base_uri": "https://localhost:8080/"
        },
        "id": "okzxsigzzfD7",
        "outputId": "b80e9bdf-3f27-4558-f63b-35fc7e0a4427"
      },
      "source": [
        "from google.colab import drive\n",
        "drive.mount('/content/drive')"
      ],
      "execution_count": 1,
      "outputs": [
        {
          "output_type": "stream",
          "name": "stdout",
          "text": [
            "Mounted at /content/drive\n"
          ]
        }
      ]
    },
    {
      "cell_type": "code",
      "metadata": {
        "id": "RVb7o3fpgaVf"
      },
      "source": [
        "import pandas as pd\n",
        "import numpy as np\n",
        "import re\n",
        "import nltk\n",
        "from nltk.corpus import stopwords\n",
        "\n",
        "\n",
        "\n",
        "from numpy import array\n",
        "from keras.preprocessing.text import one_hot\n",
        "from keras.preprocessing.sequence import pad_sequences\n",
        "from keras.models import Sequential\n",
        "from keras.layers.core import  Activation, Dropout, Dense\n",
        "from keras.layers import  Flatten\n",
        "from keras.layers import GlobalMaxPooling1D\n",
        "\n",
        "from keras.layers.embeddings import Embedding\n",
        "from sklearn.model_selection import train_test_split\n",
        "from keras.preprocessing.text import Tokenizer"
      ],
      "execution_count": 273,
      "outputs": []
    },
    {
      "cell_type": "code",
      "metadata": {
        "colab": {
          "base_uri": "https://localhost:8080/"
        },
        "id": "l02jihpciiL8",
        "outputId": "b40bc161-6a2e-4d5b-961a-e81eb21661bd"
      },
      "source": [
        "#input data\n",
        "data = pd.read_excel('/content/drive/MyDrive/sentiment.xlsx')\n",
        "data.isnull().values.any()\n",
        "data.shape\n"
      ],
      "execution_count": 274,
      "outputs": [
        {
          "output_type": "execute_result",
          "data": {
            "text/plain": [
              "(1005, 2)"
            ]
          },
          "metadata": {},
          "execution_count": 274
        }
      ]
    },
    {
      "cell_type": "code",
      "metadata": {
        "colab": {
          "base_uri": "https://localhost:8080/",
          "height": 206
        },
        "id": "0pl04hryKoIT",
        "scrolled": true,
        "outputId": "c0eee355-4323-43ba-c4ae-90db72bfaf77"
      },
      "source": [
        "#Menampilkan Data 5 baris\n",
        "data.head()"
      ],
      "execution_count": 275,
      "outputs": [
        {
          "output_type": "execute_result",
          "data": {
            "text/html": [
              "<div>\n",
              "<style scoped>\n",
              "    .dataframe tbody tr th:only-of-type {\n",
              "        vertical-align: middle;\n",
              "    }\n",
              "\n",
              "    .dataframe tbody tr th {\n",
              "        vertical-align: top;\n",
              "    }\n",
              "\n",
              "    .dataframe thead th {\n",
              "        text-align: right;\n",
              "    }\n",
              "</style>\n",
              "<table border=\"1\" class=\"dataframe\">\n",
              "  <thead>\n",
              "    <tr style=\"text-align: right;\">\n",
              "      <th></th>\n",
              "      <th>content</th>\n",
              "      <th>sentiment</th>\n",
              "    </tr>\n",
              "  </thead>\n",
              "  <tbody>\n",
              "    <tr>\n",
              "      <th>0</th>\n",
              "      <td>Saya baru kemaren instal aplikasi ini langsung...</td>\n",
              "      <td>Negatif</td>\n",
              "    </tr>\n",
              "    <tr>\n",
              "      <th>1</th>\n",
              "      <td>Baru diupdate mlah ngelag terus pdahal jaringa...</td>\n",
              "      <td>Negatif</td>\n",
              "    </tr>\n",
              "    <tr>\n",
              "      <th>2</th>\n",
              "      <td>Kecewa dengan aplikasinya. Disaat saya ingin b...</td>\n",
              "      <td>Negatif</td>\n",
              "    </tr>\n",
              "    <tr>\n",
              "      <th>3</th>\n",
              "      <td>Kiye apik yakin</td>\n",
              "      <td>Positif</td>\n",
              "    </tr>\n",
              "    <tr>\n",
              "      <th>4</th>\n",
              "      <td>Bapak saya mau pesen 3 penumpang, saat pemilih...</td>\n",
              "      <td>Negatif</td>\n",
              "    </tr>\n",
              "  </tbody>\n",
              "</table>\n",
              "</div>"
            ],
            "text/plain": [
              "                                             content sentiment\n",
              "0  Saya baru kemaren instal aplikasi ini langsung...   Negatif\n",
              "1  Baru diupdate mlah ngelag terus pdahal jaringa...   Negatif\n",
              "2  Kecewa dengan aplikasinya. Disaat saya ingin b...   Negatif\n",
              "3                                    Kiye apik yakin   Positif\n",
              "4  Bapak saya mau pesen 3 penumpang, saat pemilih...   Negatif"
            ]
          },
          "metadata": {},
          "execution_count": 275
        }
      ]
    },
    {
      "cell_type": "code",
      "metadata": {
        "colab": {
          "base_uri": "https://localhost:8080/",
          "height": 35
        },
        "id": "SKLpk257KoPu",
        "outputId": "c63e30ef-ddd5-49fe-c64d-597c75e383b4"
      },
      "source": [
        "#contoh menampilkan data attribut dari record 3\n",
        "data[\"content\"][3]"
      ],
      "execution_count": 276,
      "outputs": [
        {
          "output_type": "execute_result",
          "data": {
            "application/vnd.google.colaboratory.intrinsic+json": {
              "type": "string"
            },
            "text/plain": [
              "'Kiye apik yakin'"
            ]
          },
          "metadata": {},
          "execution_count": 276
        }
      ]
    },
    {
      "cell_type": "code",
      "metadata": {
        "colab": {
          "base_uri": "https://localhost:8080/",
          "height": 297
        },
        "id": "q7m_OhYaKoSx",
        "outputId": "4a08a432-77e4-4e02-9f6b-3dbdbbebde4e"
      },
      "source": [
        "#Seaborn merupakan pustaka visualisasi data \n",
        "import seaborn as sns\n",
        "sns.countplot(x='sentiment', data=data)"
      ],
      "execution_count": 277,
      "outputs": [
        {
          "output_type": "execute_result",
          "data": {
            "text/plain": [
              "<matplotlib.axes._subplots.AxesSubplot at 0x7f6881b38a50>"
            ]
          },
          "metadata": {},
          "execution_count": 277
        },
        {
          "output_type": "display_data",
          "data": {
            "image/png": "[encoded data removed]",
            "text/plain": [
              "<Figure size 432x288 with 1 Axes>"
            ]
          },
          "metadata": {
            "needs_background": "light"
          }
        }
      ]
    },
    {
      "cell_type": "code",
      "metadata": {
        "id": "EXfvvtCaKoVp"
      },
      "source": [
        "#preprosesing data\n",
        "def preprocess_text(sen):\n",
        "  #Removing html tags\n",
        "  sentence = remove_tags(sen)\n",
        "\n",
        "  #removing punctuation and numbers\n",
        "  sentence = re.sub('[^a-zA-Z]', ' ', sentence)\n",
        "\n",
        "  #single character removal\n",
        "  sentence = re.sub(r\"\\s+[a-zA-Z]\\s+\", ' ', sentence)\n",
        "\n",
        "\n",
        "\n",
        "  #Removing mutiple spaces\n",
        "  sentence = re.sub(r'\\s+', ' ', sentence)\n",
        "\n",
        "  return sentence"
      ],
      "execution_count": 278,
      "outputs": []
    },
    {
      "cell_type": "code",
      "metadata": {
        "id": "0xqQWUY1KoYf"
      },
      "source": [
        "#eretan karakter yang digunakan untuk pencarian string atau teks dengan menggunakan pola (pattern)\n",
        "import re\n",
        "TAG_RE = re.compile(r'<[^>]+>')\n",
        "def remove_tags(text):\n",
        "  return TAG_RE.sub('', text)"
      ],
      "execution_count": 279,
      "outputs": []
    },
    {
      "cell_type": "code",
      "metadata": {
        "id": "kUViwvApKob7"
      },
      "source": [
        "#membuat array list\n",
        "X = []\n",
        "sentences = list(data['content'])\n",
        "for sen in sentences:\n",
        "  X.append(preprocess_text(sen))"
      ],
      "execution_count": 280,
      "outputs": []
    },
    {
      "cell_type": "code",
      "metadata": {
        "colab": {
          "base_uri": "https://localhost:8080/",
          "height": 72
        },
        "id": "Gqc9oe-RKofc",
        "outputId": "1d3fead7-719f-4655-971a-86fa6c77a016"
      },
      "source": [
        "X[0]"
      ],
      "execution_count": 281,
      "outputs": [
        {
          "output_type": "execute_result",
          "data": {
            "application/vnd.google.colaboratory.intrinsic+json": {
              "type": "string"
            },
            "text/plain": [
              "'Saya baru kemaren instal aplikasi ini langsung Bisa dibuka Tapi hari ini buka lagi ko ga bisa Cuma muncul layar putih Ditunggu lama banget sampe saya uinstall lalu instal lagi tetep aja kek gini Tolong diperbaiki dong Ga malah memudahkan malah ribet jadinya Kita komplain juga ga malah dibales atau dikasih solusi Mana admin nya ini '"
            ]
          },
          "metadata": {},
          "execution_count": 281
        }
      ]
    },
    {
      "cell_type": "code",
      "metadata": {
        "id": "9wzlOaK6HOVx"
      },
      "source": [
        "#membuat array dari sentimen data\n",
        "y = data['sentiment']\n",
        "y = np.array(list(map(lambda x: 1 if x==\"positif\" else 0, y)))"
      ],
      "execution_count": 282,
      "outputs": []
    },
    {
      "cell_type": "code",
      "metadata": {
        "id": "HPcfSP28HOYu",
        "colab": {
          "base_uri": "https://localhost:8080/"
        },
        "outputId": "94effad4-3406-429c-a7c8-19f5f2154a2c"
      },
      "source": [
        "#split data untuk membagi data training dan data testing\n",
        "from sklearn.model_selection import train_test_split\n",
        "X_train, X_test, y_train, y_test = train_test_split(X, y, test_size=0.20, random_state=42)\n",
        "print('Data Train : ',X_train)\n",
        "print('Data Test : ',X_test)"
      ],
      "execution_count": 283,
      "outputs": [
        {
          "output_type": "stream",
          "name": "stdout",
          "text": [
            "Data Train :  ['Sangat membantu dalam pembelian tiket kereta api tanpa harus antri di loket stasiun mantapppp ', 'Bukanya dipermudah tapi malah dipersulit kecewa berat kenapa akun keluar sendiri padahal tidak saya keluar dan mau masuk lagi super sangat sulit jadi gk bisa berangkat gara gara aplikasi ini kecewa pokoknya harus nya itu dipermudah mana yg harus diperbaiki bukan malah ngirim varifikasi lamanya subhanallahhh TOLONG DIBACA PAK ADMIN APLIKASI perbaiki segera banyak yg memakai ini dan ini aplikasi sangat berpengaruh di kehidupan masyarakat ayolah pak ', 'Untuk metode pembayaran hanya bisa pake mandiri Terus yang ga punya debit mandiri terus melakukan pembatalan uang dikembalikan lewat mana ', 'Verifikasi gaje ajg', 'Ga bisa login Beli di stasiun ga bisa Maksudnya gimana ', 'Sangat membantu ', 'App terpercaya sangat mudah dalam penggunaan Yang tidak bisa coba di cek saat memasukan email jangan sampai salah jangan lupa dikonfirmasi terlebih dahulu di email yang dimasukan tadi kalau masih tidak bisa coba install ulang kembali kalau masih tidak bisa juga berarti anda tidak paham dalam menggunakannya ', 'Aplikasinya gak bisa di buka email lah nomor hp lah kok ribet gini sih sekarang ', 'Pesan tiket kok gak iso kabeh ', 'Ga bisa register akun baru gimana mau pesan tiketnya ', 'Kode verifikasi tidak terkirim ke mail walaupun sudah dicek berkali kali Mau buat akun aja susah ya', 'Aplikasi dari pemerintah gk ada yang benar nih server sering down Pas mau di pesan eror apalah tambahan kuota untuk setiap jam keberangkatan juga harus di tambah Karna pas sudah di pesan apk ngedown trus pas mau beli manual tidak tersedia Bangke emang', 'Masak pesan Tiket aja di batasi sehari orang uda seminggu pesan ga bisapdhl sy pesan jm Tolong lah seperti biasanya tdk di batasi ky gini jd susah terlalu rumit ', 'Gak bisa untuk pembatalan atau ubah scedulle kadang macet dan aplikasinya kurang optimal Tolong lah di perbaiki lagi ', 'Nunggu verifikasi gak ada sama sekali gimna sih ', 'Pelayanan sdh cukup lumayan ada saran buat menjelang mudik agar online tiketing nya di permudah', 'Waktu pesan tiket tidak bisa melanjutkan kembali pembayaran setelah keluar halaman pembayaran ', 'selalu tidak bisa login dan harus dibantu operator lewat telepon', 'Kenapa kai acces sekarang nggk bisa buka sama sekali ya mohon bantuannya ', 'Gak bisa daftar padahal sdh berulang kali verifikasi email ', 'Udah dari kapan tau buka aplikasi ini setiap mau masuk abis daftar katanya bakalan ada email masuk verifikasi tp gaada terus sama skali Gimana nih ', 'aku udah daftar g ada yg bisa email konfirmasinya ada yg masuk pun udah dikirim berulang ', 'Gak bisa login email verifikasi TDK muncul ', 'Gak mutu mau boking susah Katanya aplikasi untuk mudah akses lewat online Ini berkali kali boking eror mulu ', 'Duh kecewa padahal sebelumnya suka banget sama aplikasinya Tiap mu login gabisa mulu padahal email sama passwordnya udah bener koneksi juga kenceng Sampe udah registrasi lagi pun tetep aja ngga bisa login', 'Kalau mau test kesabaran silahkan download aplikasi ga guna ini ', 'Kecewa dengan aplikasinya Disaat saya ingin beli tiket yg di aplikasinya tertera sebelum keberangkatan baru bisa dipesan tiketnya eh ujung nya mau beli malah sudah habis Padahal udah nunggu sampek jam buat beli tiket Waktu hubungi CS mereka bilang kalo pemesanan tiket kai lokal bs dilakukan Yang bener yang mana Sungguh sangat kecewa karena jadwal sudah tertata akhirnya harus berakhir gara memburu tiket pulang yang lebih awal karena tiket malam telah habis semua Anjay suh ', 'PENGATURAN KA LOKAL UNTUK PENGGANTIAN NAMA DAFTAR PENUMPANG TIDAK BISA DIGANTI SEKELAS BUMN KOK APLIKASINYA BURIK GINI SIH', 'Sebenrnya apk ini membantu tp kenapa selalu ketika mau ubah jenis identitas dll selalu erorr dan time out sampai di coba hp lain juga sperti itu ', 'Kenapa aplikasivkai saya selalu time out terus ', 'Yang bilang apk ini jelek itu emak hpnya aja yang kentang wkwk apknya enak banget mudah dan tidak ribet Nyesel gak download mah', 'aplikasi nya jelek bgt sumpah dah lama bgt dapat verifikasi email pas daftar tolong dong kaiacces di perbaiki lagi aplikasinya ', 'Untuk nambah jumlah penumpang ribet ', 'Ada keterangan pembatalan tiket tapi gabisa dibatalkan wkwkwk', 'G bs login coz hrs verif giliran verif malah muter di link Ga jelas ', 'Beli tiket lokal pas internet lemot lewat link transaksi pending ujung nya tetap dipotong tapi no tiket tidak dapat sampai diiulang ya dipotong juga untung yg ke bisa Pernah sudah dpt tempat duduk ternyata kereta tidak jadi berangkat krn covid tanpa pemberitahuan tanpa pengembalian biaya ', 'Sudah minggu bikin akun gak bisa krn link aktivasi tidak terkirim ke email Sekali ke kirim ke email malah gak bisa di klik linknya Ini sebenarnya KAI niat gak bikin aplikasi Bikin mules aja ', 'Saya mau update kok masih muter terus ya padahal internet nya lancar', 'Ini kenapa pas mau liat detail pesanan tiket kok lloading trus yaa ', 'Kirain cuma gw yg ngalamin kendala kayak gini Mau log in tp gk bisa lagi katanya udah terdaftar pas masuk malah gk bisa akhirnya kepikiran mungkin sandi saya salah dan saya langsung ganti tapi pas masuk kembali sama ajah sumpah da sangat kecewa tolonglah di perbaiki lagi padahal sebenarnya aplikasi ini sangat membantu apalagi yang lokal tapi sistemnya yang mendukung ', 'Sangat terbantu dg aplikasi ini pernah cek kesedian tiket tinggal satu kursi langsung pesan dan bisa bepergian dg KAI', 'Kiye apik yakin', 'Sekarang jd makin susah kl mau naik kereta api pembelian ticket hrus via online sedangkan daftar login aj susah sulit minta ampun dh download tp daftar tak bolh msuk tak bolh buat akun kl bl lgsung loket stasiun hrus jam sbelum kereta tujuan brangkat duduk pn terpisah kasihan yg pergi dg anak duduk pn berjauhan apa pihak KAI bs menjamin keamanan si anak jika tak bs duduk dg ibu Sy dh download ne aplikasi tp tak bs daftar gagal truz So mcam mna ne KAI ', 'Sayangnya pembelian lewat BCA hanya bisa bayar di ATM tidak bisa lewat Mbanking ', 'Pas mau beli suruh lengkapi identitas mulu diulang sampe mampus ini malah gajadi beli tiket bun', 'Kebanyakan update dan maintainenc server ', 'Dengan adanya KAI Access Train kita bisa menghemat waktu dan resiko yg timbul sebelumnya ', 'Kecewa banget daftr sukses katika mau pesen tiket harus buka email ad ket salah trus padhl udh benar parah ', 'Alhamdulillah meskipun setelah menginstal sy kesusahan sandi salah nomer SDH terdaftar tp KAI punya costumer servis jd kita tanya langsung kesana Alhamdulillah di layani dgn baik terimakasih CC sdh meladeni semua pertanyaan saya dgn sabar Alhamdulillah akhirnya sy bisa pulang naik kereta kl ada keluhan langsung tanya aja ke CC nya pasti di layani dgn baik terimakasih', 'Ini ribet bund katanya suruh verifikasi tapi pas dibuka link nya sudah tersertifikasi kalau mau daftar email dan no hp sudah terdaftar kalau login kaya gitu suruh verfikasi lagi Padahal udah coba kirim ulang email tapi gabisa', 'Susah bgt mau login doang Aplikasi kai rewel bgt sekarang ya ', 'Maaf sy kasih bintang soalnya hr yg lalu sy buka app nya minta update stlah sy update sy masukin email dan password katanya gag valid sy dftar lagi sesuai email no hp dan password yg dulu malah gagal aktifasi trus sampai skrang app sy gag bisa pakai masukin data tulisan nya ADA YANG SALAH terus pdhal sbelum nya lancar aja tolong min perbaiki segera ', 'Login aja sulit enak beli di web tp harus kereta jarak jauh ah taik lah bumn masa ga bisa bayarin IT buat coding apk', 'Memudahkan schedule perjalanan ', 'Aplikasinya ruwet pasti kalau mau log in gak pernah bisa Padahal udah bener email pass nya', 'Mohon kemudahan dalam menggunakan aplikasi agar mudah digunakan ', 'Kenapa gak bisa menambakan penumpang lagi di KA Lokal', 'Gak ada fungsinya daftar akun aja gk bisa ', 'Huh mengecewakan ko jadi ga bisa log in ko notipikasinya email dan kata sandi salah terus hah dasar', 'Sulit sekali mau pesan tiket Sudah pernah buat akun Saat mau login sandi salah Coba lupa sandi email tidak ditemukan Coba buat akun lagi nomor telepon sudah pernah digunakan Pake nomor lain bisa tp pada saat pesat tiken muncul idnum already exist hari nyoba gitu terus ', 'aplikasi gagal ini mah kode aktivasi kagak di kirim padahal dah bener smua sampah ', 'Ini kenapa pada saat menambah penumpang jadi kok kosong Hanya ada default dari apk orang ', 'refund susah berbelit ribet awalnya blg sama sekali tdk ada potongan tp trnyata ada potongan tanpa konfirmasi terlebih dahulu di telp ngmgnya refund lgsg dibyr tunai kenyataannya hrus nggu hari tiba pas nelepon ke cust service tiket yg saya beli itu udah check in shg tdk bsa refund laah gimana mw check in saya reaktif ga bisa berangkat makanya refund ', 'Saya tidak bisa meng klik tombol lanjutkan sehingga saya tidak bisa memesan tiket', 'Skrg naik kereta ga bs beli tiket Offline Cuma bs online Tapi online kyak bgini aplikasinya Ga bs input penumpang Ga bs booking Gmn ni kai ', 'Mantap mempermudah akses ketersediaan tiket ', 'Kasih dulu karena dari semalem sudah daftar mau verifikasi ke emai dan no tlpl tapi tidak masuk ke email sudah coba minta kirim lagi ke email dan ke no tlp tidak masuk juga jadi saya mau verifi lewat apa', 'Kenapa jadi susah kalau mau pesen kerata sekarang mohon infonya', 'Terima kasih Sangat membantu pesan tiket kereta ', 'Nggak bisa buat beli tiket dong Trus kalo mau beli gimana ', 'Ke logout terus ngmng salah password Bikin password terus setiap mau pesen tiket Lama lama kok makin parah', 'baru di update ga bisa cek tiket sama sekali ', 'Tidak bisa buat booking kereta lokal dari kemaren eror Tidak bisa menampilkan jadwal rute ', 'Waktu mau daftar kenapa email nya gak bisa masuk sudah di coba beberapa kali masih tetap saja Mohon diperbaiki', 'Kenapa gk bisa menyimpan nomor id ya Jadi gk bisa pesan tiket kalau profil belum lengkap ', 'Susah banget masuknya harus daftar setelah daftar nggak bisa masuk sampek harus ganti email dan nomer beberapa kali ttep aja gabisa ', 'Udah lama gak dipake selama covid setelah di update kirain bakal tambah memuaskan kayak dulu ternyataa Ku kecewa saat mau login disuruh aktivasi dulu lewat email saat mencet aktivasi di email malah gak bisa katanya udah pernah aktivasi sebelumnya pastinya udah dong ya coba login puluhan kali gagal terus capek aku mau bikin akun baru juga gak bisa karna id number KTP udah pernah terdaftar aku kudu piyeee kembalikan akunku yg duluu hahahaaa', 'masukan kalau menyediakan rapid test di Stasiun mohon di info di aplikasi ini jam nya pegawai rapidnya nglayani soalnya di aplikasi tertera lebih baik daripada hari antri berarti kan jam ada layanan rapid test ternyata di stasiun madiun jam layananya cuma sampai jm tolong di perbaik ki makasih ', 'Email verifikasi tidak muncul juga payah ', 'Ya Allah sulit sekali mau pesan tiket aja masuk aplikasi harus update dulu eh setelah di update malah harus daftar lagi karena sandi salah masukan nomor lagi katanya nomor sudah pernah dipakai atau email sudah terpakai sampai ganti nomor tetap ga bisa masuk aku kudu piyee ', 'sejauh ini bagus ', 'Lumayan sudah bisa akses pake linkaja pembayaran jd mudah pesan tiket KA lokal lebih nyaman naik KA ', 'Slalu update baik sistem maupun kemudahan dan pelayanan buat pelanggan', 'Karena saya orang gaptek harus minta tolong padap petugas Alhamdulilah petugas nya paham ', 'Ngajakin ribut ini app login gak bisa masuk dftr gak bisa masuk sudah pake nomer dan email bener tpi tetep Bae gak bisa buang kuota ', 'komunikasi ini sangat membantu utk mempermudah pemesanan tiket berbasis digital', 'Setiap mau masukin identitas terjadi kesalahan mulu ujung ujung nya gabisaa mesen tiket ', 'Membantu mengecek jadwal kereta yang lewat Biar anak bisa lihat dekat jalur kereta sambil dadah dadah Terimakasih KAI ', 'Susah banget sih log in Padahal dulu lancar lancar aja Knpa sekarang susah sih ', 'Knpa kalo mau verifikasi lama dan harus di kirim ke email saya dari tadi pagi sampai skrg belum di verifikasi sama sekali', 'Gimana nih belum ada perubahanditiket online ya Tulisan tiket terlalu kecil gak bisa dizoom Tlg dikasih fitur chat dgn CS nya klo telpon habis banyak kang wkwkwkwk Sekarang sudah ada aplikasi auto answer maaf saya kasih contoh aplikasi indiehome kerreeen tuh coba deh barangkali jadi inspirasi Koreksi juga klo udah masuk aplikasi gak bisa keluar diklik BACK peng sewu gak keluar wkwkwkwk ', 'jadwal buat tanggal januari kok gak muncul padahal butuh banget ', 'Aering eror kalo pesen online untuk pembayaran melalui link', 'Sekarang susah pesennya berkali kali pesan gangguan di bagian pembayaran', 'Pelayananan bagus terus menuju yang terbaik sukses terus PT KAI ', 'Login berkali selalu gagal Padahal sudah benar dalam penginputan', 'Ini gimana sih KAI Kok gak kayak dulu Masa pas mau dilanjut gk bisa dan detail penumpang cuma biru trs', 'Terimakasih sudah meningkatkan pelayanan ', 'Susahnya untuk daftar katanya email akan di kirim untuk verifikasi sampe lebaran kuda kagak ada nyampe ', 'Udah punya akun mau login kalimatnya aduh timeout Lah ini kai access atau lagu dangdut Kok pake aduh aduh segala Ini keburu mau pesen tiket maaak ', 'iya ini gimana nih kai access saya sudah login terus saya coba pesen tiket eh hasil nya malah ga ke baca gimana ini adminnya ga membantu nih ', 'kecewa gak bisa di gunain salah email terus padahal sebelum nya bisa di pake', 'Setelah diperbarui log in lagi dan verifikasi melalui email tetapi link tidak dikirimkan ke email saya ', 'ga bisa login buat verifikasi ga ada di email ', 'Padahal email sudah benar Nomer juga benar manalagi nomer cuma satu elah verifikasi email gabisa bisa yakali gimana ini mau pulang bro dari Surabaya ', 'Link nya mana gak masuk masuk pak ', 'Kok susah banget ya belinya sekarang padahal cuma lokal tolong diperbaiki donk', 'Ganti tanggal lahir dimana ya Salah input', 'Saya mau login lagi gak bisa terus padahal email sm sandinya sudah benar ', 'Sangat membantu ', 'Layanan transportasi terbaik selalu mengedepankan adaptif dan berinovasi', 'Kenapa saya tidak bisa melakukan pembayaran via atm ', 'Sangat tidak membantu setelah di upgrade malah gabisa login lagi Bikin kecewa', 'Aplikasi KA lokal tidak ada pilihan stasiun cirebon di punya saya kenapa yach', 'Mau ganti nomor hp gak bisa padahal nomornya udah lama ganti ', 'Makasih untuk pesan tiket lebih gampang dan minta tlng BG yang belum daftar untuk email dan nom hp dipermudah pemberitahuannya', 'Untuk pembayaran menggunakan ATM banking susah ', 'Aduh buat apa aplikasinya beberapa kali donlot email ga acc di emailnya Tlp customer servicenya kali diangkat suruh nunggu sampai habis pulsa Tolong servicenya diperbaiki', 'Setelah melakukan pendaftaran tidak dikirimkan verifikasi email sehingga tidak dapat melakukan login', 'sangat jelek verifikasi email tapi email ga masuk payah KAI ', 'Kok susah ya sdh daftar pake no HP dan email nunggu verifikasi via email Email nya ga masuk no HP buat apa ya ', 'Untuk pemesanan tiket sudah bagus tp untuk verifikasi email kenapa sulit sekali sampai stres sy bolak balik email sm pasword salah trus padahal dulu sy pakai yg itu sistemnya kurang bagus mohon dipermudah', 'Aplikasi jelek setiap mau beli sudah masukan semua identitas bukan nya ke pembelian balik lagi ke awal ini pengembang aplikasi nya kurang tidur apa gimana ', 'aplikasi sampah respon sangat lambat daftar email sampai beberapa kali kirim ulang nyatanya ga ada email masuk daftar ulang katanya email sudah terdaftar bagaimana orang mau punya akun kalo begini', 'Saya mau verifikasi email kok ga bisa yaa ', 'verif pake yahoo gmail ga masuk juga dah lah tokped aja nambah jadinya edit udh lapor ke cs ny dah bisa lumayan fast respon ', 'Mudah cepat tepat ', 'Selalu eror Pdahal udah ada data tp setelah di update lg masukin email yg sama selalu aja email salah Aku kan jadi bingung Mohon solusinya kak ', 'habis di update malah gak bisa dibuka gmn sih ', 'pas mau pesen tiket malah gak bisa dipakek', 'Ini kenapa pas dibuka permintaan timeout terus Mau log in jg gak bisa Padahal jaringan lancar utk membuka aplikasi lain jg lancar Sangat mengecewakan pembaruan versi ini ', 'Sangat di sayangkan pembayaran via bca dihilangkan akhirnya saya unistall ', 'Sudah nyoba pesan tapi setiap ngeklik balik lagi isi profil gtu mulu sampe jengkel bolak balik padahal lagi butuh cepet Sedih Tolong donk kai diperbaiki lagi aplikasinya', 'Apaan hari tidak bisa ferivikasi email ', 'sangat membantu untuk pemesanan tiket ka lokal maupun jarak jauh aplikasi kai access ', 'Saya baru kemaren instal aplikasi ini langsung Bisa dibuka Tapi hari ini buka lagi ko ga bisa Cuma muncul layar putih Ditunggu lama banget sampe saya uinstall lalu instal lagi tetep aja kek gini Tolong diperbaiki dong Ga malah memudahkan malah ribet jadinya Kita komplain juga ga malah dibales atau dikasih solusi Mana admin nya ini ', 'Gimana ini mau daftar aja gak bisa Katanya suruh aktivasi lewat email udah kirim ulang seratus kali tetep gak ada email yg masuk', 'mantep banget nih aplikasi ', 'Semakin parah aja aaplikasi nya Balikin ke asal aja Beli tiket harus pake aplikasi malaah tambah susah', 'Semakin mudah beki tiket dan banyak pilihan pembayarannya', 'Saran untuk mempermudah ketika log in mungkin bisa ditambah fitur log in menggunakan sidik jari Terimakasih', 'Detail kolom isian penumpang tidak muncul mohon arahan', 'Singkat saja ini aplikasi ga berguna sama sekali ', 'Terima Kasih KAI atas pelayanan Onlinenya lebih Inovatif kedepannya untuk kenyamanan konsumen ya ', 'Tadinya kurang yakin sama bintang yg orang kasih setelah nyoba aplikasinya ternyata emang betul aplikasi ini layak menerima bintang banyak banget minusnya ', 'Apaan sih ini mau pesan tiket aja kok suruh ngisi data profil trus Padahal uda update msh susah aja ', 'Pada saat pembelian tiket selalu kembali ke halaman awal mengisi formulir lagi dan tetap tidak bisa memesan ', 'Setelah saya baca Ulasan para pelanggannya gak di tanggapi ma pihak yg terkait wkwk', 'Semoga lancar selamat sampe tujuan ', 'Nomor dan email sudah terdaftar ketika long in nomor belom terdaftar ya ampun separah ini kah seribet ini kah KAI acces berilah kemudahan pada pengguna aplikasi bukanya ruwet kek gini ', 'Sangat membantu ', 'Mantap Aplikasi yg sangan membantu mempermudah perjalanan pake kreta api Tapi saya masih bingung distem railpoint padahal id udh sesuai semua udh brapa kli bli tiket ko point gk nambah Terus pilih kursi gk muncul jadi dapet kursi random kan suwe ', 'Saya mencoba buat akun kok gak bisa Katanya akan dikirim kode verifikasi ke email tapi kodenya gak muncul Ada apa ', 'Udah bs masuk tp bkn pke nama sendiri ', 'Sangat kecewa dengan aplikasi dan pelayanan Saya pesan lewat aplikasi slalu gagal dan regiatrasi ulang slalu di tolak minggu lebih mencoba beberapa kali slalu tidak bisa Waktu pesan offline malah di tolak karna harus di hari yang sama untuk pemesanan Ktika datang jam sebelum pemberangkatan di info kan tiket habis sejak kemarin Sangat mengecewakan', 'Kenapa pembatalan tiket kereta tidak bisa dilakukan padahal itu saya coba sblum jam keberangkatn mohon bantuannya dan apakah proses pengembalian masih bisa dilakukan', 'Sangat membantu dlm pemesanan tiket kereta Semoga KAI lebih maju dan modern dlm hal pelayanan angkutan darat ', 'Ko sekarang susah login ya sampe harus beberapa ganti sandi tetep ga mau login uda pake akun lain pun ga mau login jd kesel sendiri saya nya ', 'Verifikasi email susah Pesen tiket susah Ini niat nggak sih aplikasi nya', 'Kok gk bisa ya ganti nomer soalnya nomer yg di buat daftar hilang gmn cara gantinya ', 'Aplikasi nya gak jelas wong email kata sandi nya bener Tetap aja gk bisa login Payaaaaaaah ', 'dari belum di perbarui smpe udh perbarui tetep aja gk bsa pilih berpa tiket yang mau bli tetep aja eror aplikasinya ', 'SALDO SAYA SUDAH KEPOTONG RB SUDAH HARI KOMPLAIN DAN TIDAK ADA UANG KEMBALI KETERANGAN NYA PENDING', 'Q banga kerja di pt KAI SEMANGAT PAGI PAGI PAGI PAGI KAI LUAR BISA ', 'susah log in verifikasi lewat email gak ada yang di kirim email saya', 'Udah register tapi kok gk ada terima email verifikasi ya Dcoba trus baru masuk eh bgitu masuk email ny klik mala gk bisa dbilang udh Aktifasi Tpi sya loggin tetap gk bisa krena blm aktifasi Jdi gmana ini ya ', 'Sebelum update ngga ada kendala apa apa setelah update pas mau login katanya tidak valid Tidak valid bagaimana orang udh terdaftar sebelumnya sering dipake juga tiba kok tidak valid tau gitu ngga usah diupdate selama masih bisa dipake Tolong diperbaiki Capee akutu bolak balik hapus data hapus cache uninstall install tetap aja ngga bisa ', 'Mantap sekali gak perlu antri ke stasiun ', 'Aplikasi cacat ini pendaftaran berulang kali nunggu email verifikasi kirim ulang berulang kali tetep aja ada email masuk hari nyoba terus tetep aja mohon perbaiki ', 'kenapa susah sekali aktivasinya ', 'Anjim aplikasi bgst dlu bisa pake kode otp skrng email konfirmasi ga nyampe Pengguna dipersulit annnnnjimmm bgt ', 'Saya udah login dengan akun email baru dan ujung nya tetap tidak bisa login Tolong diperbaiki Gimana bisa pesan tiket kalau login saja tidak bisa Najis bet unninstall aja lah ', 'kai semoga makin sukses menjadi pilihan masyarakat tempat duduk org haruse bisa gabung berdekatan otomatis', 'Baru update malah stalk dilogo ', 'Seminggu yg lalu verifikasi email nggak masuk sekarang masuk email dr kai acces tp akun gagal aktivasi Ganti hp nomer dan email tetep gagal aktivasi kan kesel dulu pernah awal buat lancar srkg susah ', 'MASIH BELUM ADA SOLUSI PESAN TIKET KA LOKAL UNTUK ORANG LAIN YANG BERADA DILUAR KOTA SEDANGKAN YANG PUNYA APLIKASI TIDAK IKUT BEPERGIAN MASIH HARUS DENGAN ORANG YANG PUNYA APLIKASI ITU SENDIRI BUTUH UPGRADE', 'Menjadi mudah proses cepat', 'Sangat membantu sekali ingin naik kereta tinggal klik beres sukses selalu buat KAI Access', 'Setelah diupgrade ke versi baru malah jadi error susah sekali mau mengganti tanggal pemesanan selelu time out padahal dulu lancar lancar saja Mau coba log out juga gagal terus', 'Aplikasi sangat mengecewakan udah pesen cara tut nya gak pernah bisa bisa', 'Gk jelas App Buat Booking aju Ribet ', 'dapet notifikasi email susah banget jadi gak bisa pesen tiket kereta', 'Aplikasi ini sangat membantu tetapi saya mau tanya ke developer nya gimana ya cara ganti nomor telfon akunnya karena nomor hp saya sudah ganti yang baru tolong dong bantuan nya developer fast responnya ', 'Pembayaran lewat link aja selalu pending Payah ', 'daftarnya susah banget suruh aktivasi ke tautan email ditungguin sampe jam gak ada email tautanya unistall aja lah pake aplikasi yg lain', 'Kenapa susah masuk Padahal setiap hari dulunya bisa buka kemarin log out sendiri pas mau masuk langsung keluar sendiri ', 'Sudah daftar berkali kali tapi tetap tidak diberi email verifikasi Tolong segera diperbaiki ', 'Aplikasi sangat membantu buat pesan tiket online ', 'Aplikasi kurang baik Rugi instal KAI Acces Daftar sudah hari pake akun tapi tidak ada balasan email verifikasi Katanya naik kereta tiketnya harus online tpi kenyataannya masuk apk KAI saja susah ', 'semoga makan Top ', 'Aplikasi sering ga cocok sama jadwal REALnya ', 'Lebih memudahkan dalam pemesanan tiket KA Gakpakai repot dan Gak pakai Lama Sukses utk KAI ', 'Aplikasi pt kai skrg kalau mau buka tiket riwayat account kok gak bisa lgs buka ya selalu muncul MASUK DAFTAR unt ngisi alamat email password mohon dipermudah', 'Udah update kok jadi ga guna ini apk ', 'Kenapa gak bisa membatalkan tiket masa udah sehari dicoba malah yg kluar hanya tulisan cannot find transaction Pdhal sudah liat tutorial pembatalan di YouTube knapa tetep ga bisa Bisa minta tolong masalah ini ya dikasih solusi ', 'kapan mo update lg apl yg ini bisa dpakai ', 'ini itu aplikasi transportasi yang pentinf bgt tapi kenapa jelek banget gini Harus bikin akun baru karena akun satunya daftar nama penumpang tidak bisa diganti giliran bikin akun baru ga terima email verifikasi sama sekali ', 'Harusnya ada opsi mesenin tiket untuk orang lain terus dibayar berapa kok payment cuman ada linkaja wkwk', 'Tidak ada pilihan pembayaran lewat banking ', 'terkadang sulit untuk mengetahui jadwal perjalanan kereta selama pandemi sekarang', 'Terima kasih memudahkan dalam pembelian tiket ', 'Maaf Pak pusing cara log in terlalu di ruwet ruwetin Dan nyusahin kalau udah ganti hp Saya udah jam gak nyambung nyambung acara lupa sandi sampai reset sandi waktu masuk eh verifikasi email udah verifikasi malah oops akun anda sudah di aktivasi mohon segera log in Sudah pak kapok naik kereta di ruwet ruwetin', 'Abis daftar knp ada email lg utk aktifasi ya Lewat sms juga masuk Gmn ini ', 'ini kog ga bisa daftar akun kai macet si saat lanjutan baru masukin nmer sama email ', 'Pelayanan sekarang lebih bagus dari pada tempo dulu', 'Tidak bisa daftar padahal udah masukin no hp dan email tetapi selalu timeout', 'Woi perbaiki tuh aplikasi masa skelas bumn kalah ama aplikasi belanja yg minim bug cari programer yg cerdas jangan yg dungu ', 'Sudah membaik semoga baik seterusnya ', 'Kok gak bisa daftar akun ya aduh permintaan anda time out ', 'Kenapa susah bgt sekarang no tlp sama email yg udah kepake dulu gak bisa login dsrh registrasi ulang tp verifikasi email gak masuk masuk tlong dibenerin min sangat Tidak membantu mengganggu sekali untuk orang yg mau melakukan perjalanan Ganti aplikasi atau apa kek yang bagusa dan mudah accesnya', 'Sangat membatu sekali untuk keperluan luar kota menggunakan kereta lokal maupun jarak jauh ', 'Bikin emosi udah jelas bener masukin no id Masih juga salah suruh masukin lagi masukin lagi', 'Aplikasi penuh banyak kekurangannya ', 'Kenapa sih gak bisa dibuka aplikasi nyaa', 'Tidak bisa di buka cm tampilan putih aja belum ada perbaikan dari penyedia aplikasiny', 'Bayar lewat mbanking bisa gak sih Kok metode pembayarannya cuma ada linkaja dan qris ', 'Sudah Pernah registrasi lewat email sudah tidak terdaftar ', 'aplikasi apaan sih gak guna ribet ', 'Kenapa setelah update malah eror terus si ', 'Ga bisa verifikasi atau login menyebalkan ', 'kok lelet suruh verifikasi lewat email tp email nya ga masuk', 'Halo PT KAI Saya beli tiket gedangan malang kota lama Waktu pesan dan pembayaran lancar lancar saja Tpi waktu saya mau lihat tiketnya loading terus beberapa kali dicoba tetap sama Internet saya matikan juga sama internet saya nyalakan juga sama Tolong bagaimana ya solusinya Pdhal kuota saya masih banyak tiket dipakai tgl november soale terimakasih', 'Sangat mudah menggunakan aplikasi KAI Access pokoknya the bestt deh KAI Access ', 'Nyuruh pake aplikasi eh Mau daftar kok di persulit emel verifikasi kok gak nyampe buat marah customer aja ', 'Gak bisa login padahal udah lupa password sampe tetep ajah gak bisa login ', 'Aplikasi yang sangat membantu dalam pemesanan tiket pembatalan tiket tanpa perlu datang langsung ke stasiun dan pembayaranya via transfer Terimkasih PT KAI ', 'APLIKASI GA GUNA GGRA LO GW RUGI UDAH BELi TIKET GA BSA MASUK KRNA GA BWA SURAT SEHAT EMNG GW GILA GW RUGI ANJIM GA BISA PULANG UANG RAIP GA NGOTAK PT KAI PMBRITAHUAN GA ADA DUIT GA BISA BALIK GA NGOTAK ', 'Menurut saya apk ini sayang memudahkan bagi kita anak jaman milenial yang malas untuk mengantri lama di loket stasiun kereta dengan apk ini kita bisa kemanapun dan kapanpun hanya dengan hp dan tanpa repot mengantri tapi untuk kelemahannya sendiri tidak jarang banyak orang yang sudah lanjut usia tidak bisa menggunakan gadget yang modern jadi mereka masih menggunakan cara manual yakni mengantri di loket stasiun dan itupun harus jam sebelum keberangkatan Banyak diantaranya yang kehabisan tiket ', 'Seiring dengan aturan baru untuk pemesanan hanya dilayani lewat online Mohon akses untuk pembayaran tidak hanya mengandalkan nk Ajo bisa ditambahkan dengan Ov atau p Terima kasih', 'Aplikasi yang sangat membantu dalam pemesanan tiket', 'Darikapan itu saya daftar Tapi tidak bisa masuk terus Verifikasi verifikasi verifikasi terus aja gt Mempermudah darimana nya cb', 'Tiket bisa dipesan kapan saja tanpa batas waktu tempat jarak dan kesempatan ', 'Kenapa pembayaran cuma bisa pakai qlink dan qris Ga efisien bgt ga bs pake alfa atau banking apa ', 'Nyaman tepat waktu jg bersih juga ramah pelayannya ', 'Pesan tiket online sangat praktis ', 'Sangat membantu kalau bisa ditambah fitur untuk melihat rute kereta api Terima kasih', 'Ini kenapa waktu mau pembayaran lewat Indomaret tapi nggak bisa kata Mbak nya error di tolok Apa nya ini bermasalah Padahal lagi butuh banget tiket', 'Ini gimana ya kak Saya udah membayar tiket tapi kok tiket nya hangus Dan saya tanyakan ke pihak stasiun pihak stasiun tidak tau Tolong kerjasamanya ', 'Maaf ya sebelumnya Saya yakin ini app dibuat pastinya untuk memudahkan orang pakai lyanan kai yg ada tp dengan harus masuk lagi itu yg ngeribetin Kan semua orang juga yg tiap hari naik keteta ksana kesini Pasti ada saat dan rentang waktunya lah kluar pergi Harus masukin email no Telp dan kata sandi berulang kali tapi masih ttep aja salah pdhal yakin bner krna udh dicatet Tolong dong app nya itu dibuat sekali aja masuk biar masuk bahkan daftar berulang Kalo ada ddakan jadi susah ', 'Ribet mw daftar aja susah apa lagi nnti udah bisa pasti lebih ribet ', 'Aplikasi nya bagus dan tanpa admin pokoknya bagus dech', 'Aku seneng banget pakai aplikasi ini Jadi kalau mau pesen tiket tinggal lewat aplikasi praktis kan gak perlu dateng ke loket stasiun dan tanpa perlu antri ', 'jangan download aplikasi penipu udah bayar keterangan tiket hilang karma berlaku', 'Akhir ini agak sulit mengakses KAU apa karena situasi covid ya ', 'Dengan kai access pesan tiket jadi mudah', 'Kecewa akun lama tdk bisa di pakai lgi walaupun ada pikihan ganti pasword semuanya percuma kecewa', 'Saya sudah bayar knp kode tiket saya ga muncul malah hilang ', 'Kok gak bisa buat milih penumpang ya apa harus di instlal di ', 'Katanya bisa pesan tiket bulan sebelum keberangkatan kenapa saya coba cari tiket selalu tidak tersedia ', 'Alhamdulillah aplikasi ny sangat membantu sekali jdi tdk lagi ngantri pesan tiket kareta api ny tinggal buka aplikasi ny dan langsung bayar ', 'Seneng bgt sech Gk ribet lht jadwal kereta Sangat membantu ', 'Mengapa setelah upgrade versi terbaru gak bisa login lagi Khoq profil hilang', 'Aplikasi bukanya membantu mlh bikin kecewa Mau booking tiket aja gk bisa Time out trus gatau lg penting', 'Aplikasinya hanya sekedar formalitas tidak memudahkan calon penumpang untuk bisa beli tiket dengan nyaman ribet banget proses order tiketnya menyulitkan para calon penumpang apalagi calon penumpang dalam provinsi pembayarannya ribet bgt padahal aplikasi gunanya untuk memudahkan calon penumpang untuk membeli tiket pakai aplikasi KAI ACCESS makin ribet tidak ada perbaikan pelayanan di aplikasi ini ', 'Semenjak upgrade kenapa aplikasi ini selalu membuat saya kesal karena sering tidak merespon dan stuck tiba tiba padahal rom dan ram saya masih banyak yg free Tolong untuk pihak KAI segera memperbaiki aplikasi KAI Access sesegera mungkin agar tidak ditinggalkan oleh pengguna lain dan beralih menggunkan moda transportasi alternatif lainnya ', 'Kintil ahh apk lama bisa login begitu diupdate kok gak bisa login malah suruh daftar pake email baru giliran udah daftar lagi suruh verif dan dapet pesan email yg digunakan sudah terdaftar silahkan coba cek email kembali kan eeq ', 'Ini siapa si programmernya niat ga si buat apknya Ada fitur yg dibuat tuh ', 'Sangat membantu buat pemesanan tiket kereta ', 'Makin Mudah pemesanan dan transaksi pembayaran pesanan tiketnya ', 'aplikasi sudah tidak bisa dibuka lgi suruh perifikasi tp ga ada email yg asuk ', 'Puas bagi yang belum paham silahkan langsung bertanya ke stasiun nya', 'Sangat jelek mempersusah bikin emosi aja udah nggak bisa login menggunakan email bru dan no hp bru daftar juga nggak bisa Menggunakan email dan hp teman sudah daftar msuk login Mesan sdh milih tiket dan ngisi semua kali gagal Sangat jelek dan tidak rekomended Jangan download buang buang kouta waktu Kalo download siap siap emosi jufa', 'Eror atau gmna aplikasi di update malah gak bisa digunain bolak balik suruh ngisi profil terus mau pesan disuruh ngisi data terus udah di isi balik lagi ke awal ', 'Sangat membantu untuk pembelian tiket dan jadi tau jadwal keberangkatan kerta', 'mau verifikasi akun dari tadi ngga dapet balasan email padahal email sudah betul', 'Saya saat ini malas naik kereta api karna ada persyaratanya harus pakek rapid tes Saat ini saya lebih pilih naik bus ', 'Setelah di update malah tdk bisa login Maunya apa Kenapa harus mengadakan pembaharuan sistem software Kalo implementasianya tidak memadahi Tolong perhatikan Jangan mempersulit pengguna ', 'Mohon diperbaiki software mobilenya Saya mencoba daftar dan sudah pada tahap konfirmasi email namun belum mendapatkan konfirmasi email sama sekali sama dengan fitur verifikasi nomer handphone Mohon segera diperbaiki ', 'Sangat berguna dan bermanfaat bagi seluruh masyarakat yang menggunakan moda transportasi kereta api', 'Mudah dan cepat untuk pemesanan tiket ditambah lagi promonya ', 'Setelah update ga bisa login login dong koneksi time out terus Pdahal pake aplikasi lain lancar', 'Mau daftar susahnya minta ampun dah berkali coba gagal terus', 'Nggak ngerti cara pesannya gimana Uda scan qr malah aneh linknya nggak punya link aja Sangat tidak membantu sekali malah sangat mempersulit Kenapa kalau pesan lokal nggak bisa di traveloka atau shopee aja yg nggak ribet ', 'Salah sekali tidak bida mendaftarpadahal penting ', 'G tau knp mau batalin tiket bisa Dan saya daftar tiket buat org lain yg sudah ada di daftar penumpang bisa harus nama pemilik akun dulu baru org lain kayknya aplikasinya kai kurang canggih batalin ubah jadwal ndak bisa sudah dicoba berkali seharusnya daftarin org secara online bisa masukin siapa aja harus pemilik akun yg jadi penumpang toh yg dibutuhkan code tiket penumpang yg mau di scan kl yg naik org tua g punya hp gmn ato hp nya jadul ', 'seharusnya ada opsi untuk pergantian nomor telpon banyak diantara kita yg terkadang nomor telpon sudah berganti yg baru karna habis masa berlaku dll ', 'Gabisa registrasi anj pdhl email udh bener tinggal verifikasi aj susa amat si ', 'Selalu harus dioerbaharui bikin susah orang ', 'Sangat membantu ', 'Setelah update malah ga bisa masuk akun KAI ', 'Verifikasi emailnya lagi rusak ga ada email yg masuk untuk verifikasi ', 'nyesel update aplikasi ga bisa masuk ke akun hadeuh ', 'Mau nya gimana sih Saya sudah ganti email dan pasword yg baru tetap saja tidak bisa log in atau mendaftar Bahkan dengan nomor baru juga tidak bisa APLIKASI BUSUK ', 'Sering banget ngelag saya mau pesen tiket berkali nyoba sudah diklik lanjutkan keluar notif tunggu habis itu ngelag ngga bisa diklik gimana dong dari dulu selalu gitu Sudah hubungi cs lewat email ga dibalas', 'Ya Alloh kok slow respon mo pesen tiket aplikasi gak bisa di buka Jadwal jadi kacauuuu ', 'Min tolong dong tambahin Menu pembayaran Di Tiket Kereta lokal tolong tambahin Dana dong Soalnya Link aja aku udah di Blokir Mau ambil cara pake QRIS ribet', 'Kenapa setiap top up berhasil tapi di aplikasinya masih belum ada info pembayaran Ini aplikasi nipu apa gimana Sekarang saya minta uang saya dikembalikan Sudah kali saya bayar padahal', 'Dengan adanya aplikasi KAI ACCESS ini sangat membantu tidak usah takut kehabisan tiket mengingat setia pulang kampung harus oper dengan kereta lokal malang Blitar Dulu kereta lokal tidak bisa beli online sekarang sudah difasilitasi dengan sangat mudah Terimakasih PT KERETA API Perjalanan jadi mudah nyaman dan menyenangkan ', 'Yaampun mau verifikasi akun aja susah banget Semoga ke depannya makin baik ', 'dengan adanya kai access sangat mempermudah semuanya terutama jadwal kereta terima kasih ', 'setelah di ganti yg baru ngeklik berulang ulang jumlah penumpang gk ada respon cuma doank ', 'Aplikasi banyak eror nya ', 'Kenapa ini aplikasi tidak bisa beli tiket ', 'Gagal login terooosss Suruh aktifasi tpi dari emailnya jg gagal ', 'Kesel banget pas masuk suruh verifikasi email udah diklik beberapa kali tapi kode verifikasinya gak masuk diemail padhl udah bener Sampek coba Apknya kuUninstal terus download lagi tetep aja ga bisa Tolong lah segera diperbaiki', 'Aplikasi nya sering macet macetan dan utk mencari stasiun kurang lengkap', 'Halo Kai Acces Tolong ditambahkan suatu sarana alarm atau notifikasi jadwal keberangkatan Kreta api antar kota di aplikasi KAI Access ini untuk mengingatkan para pengguna yang telah membeli tiket jauh hari sebelum keberangkatan Terimakasih ', 'Mau daftar sudah klik link nya malah sudah terferifikasi dan mau masuk suruh verifikasi lagi tolong segera diperbaiki lagi', 'Ini kenapa gak bisa di lihat ya pesanannya Undefined semua ', 'Beli tiket gabisa terus Padahal udah bener butuh ', 'Bahasa indo nya mana woy Sumpah jane iki seng gawe raruh pasar ye blok ', 'Mempermudah membeli tiket ', 'Verivikasi email nya lama banget padahal butuh tiket kereta api segera nunggu lama banget gk ada pesan ke email juga gimana sih aplikasinya ', 'Memudahkan pelanggan Apalagi dimasa covid ini ', 'Ngirim email aktifasi Yang mana ya ampun di tunggu ngga ada', 'Saya mau daftar eh mau ke lanjutkan tidak bisa terus', 'Susah bgt dftr ataupun masuk di kai akses ', 'Verifikasi email tapi sudah hari tidak ada satupun email yg masuk', 'Bagus ni aplkasinya tapi menu ubah data profil kok gak bisa ya mau ganti nomor hp nya nih ', 'Aplikasi murahan tidak bisa di buka ', 'email verifikasi tidak bisa masuk jadi tidak bisa login mohon untuk diperbaiki', 'Naik lokal sekarang makin ribet loket stasiun ditutup Pembayaran tidak variatif Bangkrut aja sono nyari penumpang milih milh', 'konfirmasi email tak kunjung datang kyknya aplikasi dan aplikator belum siap harusnya pelayanan offline di stasiun kecil tetap ada ', 'Kai access sangat membantu klo mau naik kereta kemana mana Nggak ribet cukup pilih keberangkatan tujuan tnggl jumlah penumpang isi data penumang bayar udh ditransfer dan dapat kode booking pas hari keberangkatan sebelum dua jam berangkat tinggal pilih mau cetak tiket boarding pass atau pakai boarding scan QR dan alhamdulilah punya saya sudah premium enakk pergi mendadak cukup buka kai acces pokoknya salut dah kpd PT Kereta Api Indonesia Persero semoga semakin maju jaya terus aminnn ', 'Seharus nya ada langganan tiket kereta api langganan parkir di stasiun', 'Sudah daftar masukan no hp dan email sudah ada verifikasi tapi kenapa saat mau login selalu gk bisa dan selalu TIMEOUT HAS OCCURRED ', 'lebih praktis dan mudah di gunakan ', 'Aplikasinya sudah baik metode pembayarannya banyak sekali pilihan namun untuk pemilihan kursi mohon diberitahukan arah duduk apakah membelakangi atau menghadap depan', 'Sya udh daftar akun tp kenapa pas mau pke lagi malah gak bisa msuk lg dan verifikasi akun sudah terima ', 'Oi Suka Suka Lompat ', 'Setelah di perbarui makin aneh Masak email dan nomer telfon saya belum ke daftar Dan harus daftar ulang Ini maksutnya gmn Mana belum terverifikasi lagi emailnya masuk Haah jadi males beli di aplikasi ini Mendingan juga beli lewat shopee aja udh dapet chasback ribet pula Harganya jg sama aja Ya udh saya hapus aja aplikasinya ', 'Aplikasi konyol bs login Berkali uninstall instll ulang aplikasi ttep aja bisa login Tlfon di customer care juga konyol putus nyambung smpai habis pulsa ', 'Tiba eror padahal tinggal cek pesanan dan bayar aja heng ni hp saya apa aplikasinya yang eror sih', 'Gak bisa login Padahal udaj reset password ', 'Sudah ganti hp kali tidak bisa log in kai acces kenapa ya Tolong dong ', 'Nomor saya yg telah terdaftar waktu mau masuk kok ada tulisan nomor tidak terdaftar Mohon bantuannya ', 'Verifikasinya kok gk muncul apakah ada solusi ', 'susah bgt setelah di update susah masuk pdhl pasword uda bnr ', 'Kai bagaimana cara pindah jadwal atau atur ulang jadwal merubah jadwal Saya sudah nyata ada tiket Tapi di bilang tidak ada tiket di fitur ubah jadwal Yang benar bagaimana Apakah fitur itu ngebug', 'Semakin baik dan berinovasi Selaluadajalan', 'Kenapa jadi timeout teruss Udah install berkali kali juga Jaringan aman aman aja Solusinya gimana dong Kalo hp ga support seharusnya dicantumin di deskripsi tipe yg mendukung yg gmn Bukan gk jelas gini', 'Nomor teleponnya tidak dapat diganti ', 'sudah bulan install kendala gabisa login karena akun belum teraktivasi email aktivitasi selalu gabisa alias error update sudah diperbaiki oleh cs via email Thanks', 'Memudahkan untuk booking tiket kereta api', 'Aplikasi paling payah sepanjang sejarah penggunaan yg susah dan ribet sudah berusaha sabar ini sekian kalinya saya dikecewakan aplikasi ini', 'Sangat baik digunakan', 'TIDAK BISA DIGUNAKAN DATA SUDAH DISIMPAN TAPI KEMBALI LAGI', 'Kenapa gk bisa loginnn Either you not yet login or token is not valid Gitu gitu aja udah berapa bulan ga bisa bisaa ', 'Akhirnya aplikasi KAI ACCESS tidak tersedia lagi di ponsel android kitkat dan android lolipop diharapkan pihak KAI beri kemudahan bagi pelanggan KAI yg masih pakai ponsel android kitkat dan lolopop agar bisa memasang lagi aplikasi KAI Acces untuk memesan tiket dimasa pandemi ini terimakasih ', 'Alhamdulillah tepat waktu perjalanan menuju tempat tujuan ', 'PT KAI Access semoga tambah maju dan menjadi sarana transportasi ternyaman untuk masyarakat Aamiin ', 'Untuk versi terbaru harus menggunakan tipe android ato lebih ya elah mo pesen tiket aja musti ganti hp Katana utk kenyaman bersama ', 'BAGAIMANA CARA MENGGUNAKANNYA APLIKASINYA SUDAH DITEKAN LANJUTKAN TAPI TIDAK ADA RESPON SAMA SEKALI ', 'Pesan ubah jadwal dan batalin tiket jadi nggak ribet cukup dr rumah aja ', 'dengan adanya KAI MEMUDAHKAN PERJALANAN YG SAYA TUJU dengan aman dan tepat waktu tks KAI ', 'Sangat sangat mengecewakan Pelayanannya Mau login masuk saja kode verifikasi Sudah jam belum dikirim Pesan di loket tidak boleh saya menyarankan KAI dibubarkan saja melayani masyarakat kecil Saja tidak bisa ', 'Harus jauh ke cs stasiun dulu baru bisa dipake app nya ', 'tidaka ada email yg masuk untuk verifikasi gabisa di andalkan saat keadaan lagi genting ', 'Saya udah daftar tapi kok gabisa bisa login yah ', 'Sangat membantu dlm pelayanan tiket kereta api', 'Kenapa gak bisa login pake akun lama kok email salah password salah register juga gak bisa ', 'Knp di versi aplikasi malah ngeblank kalau pas buat milih menu pd saat pembelian ticket Ka lokal hanya muncul templet pd keterangan perintah Tolong di sempurnakan direview lg upgrade nya Karena versi sebelumnya menurut saya sudah baik ', 'Sangar memberikan yang terbaik untuk kita semua', 'Susah sekali mendapatkan verifikasi email Tolong segera diperbaiki', 'Kenapa aplikasi saya gak bisa digunakan sering time out atau booking more than booking apaan coba tolong diperhatikan lagi server nya dan diperbaiki lagi jangan mengecewakan calon penumpang yang ingin menggunakan KAI ACCESS', 'setiap mau buka untuk mendapatkan kursi selalu macet tidak mau keluar ', 'Sering bermasalah pas masuk pasword dan imaeil katanya sesui ', 'Jelek banget pengguna baru ga dapet email verifikasi sudah nunggu jam jadi akunnya ga bisa aktif dan gabisa pesan tiket online ', ' Saya Minta Tolong gimana ini saya pesan tiket tapi pas waktu mau isi data penumpangnya kok gk bisa di sentuh gimana yaa ini tolong jawab cepat saya butuh tiket itu ', 'Jadi gampang untuk cancel tiket untuk nama sendiri ya check in online Lebih ditingkatkan dunkz untuk cancel bisa atas nama yang masih KK Terkadang pesan tiket untuk orang tua tapi cancel mendadak jadi harus datang ke loket Terima kasih', 'Tidak bisa melakukan pesanan tiket karena ada problem cannot booking more than book oer day padahal di hari yg sama blum memesan perjalanan sama sekali ', 'Platform gagal Verifikasi email aja gak masuk masuk Entah kualitas SDM perusahaannya yg kurang atau proses pengadaan platform nya yang tidak sehat korup Memalukan ', 'Terbaik KAI Acces merupakan jawaban dari kebutuhan efektivitas dalam mobilitas transportasi sangat mudah modern serta kompatibel di era digital ', 'Bikin emosi aplikasinya aplikasi apaan menyusahkan bukan malah membantu ', 'Kai kenapa dibuka loadingnya lama bangett padahal dibuat browsing lainnya lancar lancar saja ', 'Saya sudah daftar tapi belum menerima notifikasi verifikasi padahal noHP sama Email sudah benar dan saya coba hampir tiap hari mohon untuk dicari masalahnya', 'Aduh permintaan anda telah time out Gak membantu banget aplikasi nyaa diperbaiki lagi kek Rewel banget', 'Pelayanan yg sangat memuaskan', 'Tolong dong kalo informasi penting di pertegas terus ini ga bisa berangkat di refund ga bisa malah tiket hangus', 'App lemot harus nya di masa pandemi kayak gini lebih di mudah kan ini malah susah banget ', 'Hanya muncul lqyar putih Jadinya terkendala', 'Data di profil tdk bisa di rubah ', 'tolong dolong tranksaksi nya perbanyak aplikasi nya jangan pake link aja dan qris dong soalnya link aja aplikasi gak bgt susah daftar terus saya gimana kalo pesen tiket harus bayarnya kalo gini gausah lah ada aplikasi kai access gak guna bgt soalnya ', 'Tolong min tambahkan fitur metode ganti nomor telepon di akun KAI ACCESS Karna saya ingin mengganti nomor saya di akun KAI nomor telepon saya yang di akun KAI sudah tidak aktif saya ingin mengganti nomor tersebut tapi tidak bisa Jadi tolong min tambahin fitur metode ganti nomor telepon ', 'Kenapa di persulit pakai aplikasi segala enak beli di stasiun lgsg', 'Tiap pembaruan aplikasi selalu error angel wes angel ', 'Mohon Di Apdate Kembali Saya Mau Pesen Tiket kok Sulit Sekali Untk Registrasi nya Padahal PT KAI Indonesia Kok Bgtu Ya Cara Melayani Penumpang Masyarakat Indonesia Saya Udah Download Aplikasi Nya Saya Coba Trus Menerus Tetap Aja Gk bs Masuk Registrasi Mohon PT KAI Di Tinjau Kembali Aplikasi Nya', 'NO COMMENT SILAHKAN PAKAI SAJA SENDIRI MAU DAFTAR AJA SULIT MAU CANCEL JUGA BOOKING TIDAK DITEMUKAN PARAHH ', 'Update terbaru malah time out terus ', 'Gak bisa login Padahal email dan no tlpn yg saya dftarkan dulu benar Sandi juga benar Sudah saya catat biar gk hilang Tapi saya login sandi salah terus trus lupa kata sandi Saya masukkan email tdak di temukan Mohon di perbaiki ', 'Parah bangett sekarang ni apk enggk bisa login udah tau bnyak complain tpi ttep aja gak ada tidakan sma respon tolong min segera ditindaklanjuti ', 'Anjir makin ribet pakek aplikasi gak mutu aku udh punya akun tapi ribet msuk aja bikin sakit hati ', 'Mau login susah parah gak niat bgt bikin apk', 'Sebenernya membantu banget aplikasi ini untuk kaum melenial Akan tetapi kasian yg sudah tua gabisa pesan tiket dong kalau harus pakai kai Acces ', 'Tolong perbaiki layanan pada aplikasi Ketika mendaftar email verifikasi tidak terkirim pada alamat email Perbaiki juga atau update aplikasi di platform ios karena tidak bisa untuk login Sudah ganti password tapi tidak terdaftar KA PRAMEKS hanya bisa bisa dibeli lewat aplikasi tapi kalo aplikasinya begini jadi ribet kan Niatnya simple tinggal lewat aplikasi tapi kalau tidak dimaintenance dengan baik malah menyusahkan Cancelled booking ', 'Kenapa gak bisa di buka iya', 'Membantu banget ', 'Terus di permudah ', 'Kenapa ngak mau lagi di buka aplikasinya Muncul layar putih aja', 'Kok gabisa daftar Padahal baru install apk ini', 'Naik kereta nyaman ', 'Semakin bagus aplikasinya Sekarang bisa dapet reward poin Saran untuk update selanjutnya tolong tambahkan foto estetika dan fasilitas dalam pilihan kereta yang akan dipesan Dengan begitu aplikasi ini akan lebih sempurna lengkap dengan informasi yang lebih detail ', 'Ya Allah ini gimana mau pergi naik KA klo regristasinya aja susahnya minta ampun Masak sudah daftar akun tinggal nunggu email verivikasi aja dari kemarin nyobak nggak masuk email verivikasinyaaa ', 'Ka lokal SLO KTA kok ga ada jadwal ya emg lgi eror atau trobel atau bagaimana tolong penjelasannya', 'Akun keluar sendiri dan tidak bisa login kembali ', 'Konfirmasi email kenapa gagal ya setelah di update pdhal email pasword udah bner kecewa ', 'Bukan mempermudah malah mempersulit calon penumpang ribettt ', 'Jadi gampang pesan tiket ', 'Aplikasi busuk email aktivasi gak dapat Begitu dapat langsung expired Mau login akun tidak terdaftar Daftar ulang lagi gabisa karena sudah terdaftar Muter aja gitu Niat gak sih bikin sistem ', 'Tolong KAI ini saya melakukan pembatalan tapi tidak di proses sampai bulan lebih sudah percuma nih aplikasi kalau emang tidak di respon juga', 'Saya gabisa login padahal di update terus ', 'Untuk ubah nomor handphone bagaimana yah Pd ubah profil nomor handphone tidak bisa diubah ', 'Severnya jelek Bikin emosi loginnya ', 'Bagaimana aplikasi ini knp tdk ada tindakan saya sudah berulangkali log in keterangannya email belum terdaftar padahal jelas email saya sudah terdaftar dan saya masih hafal passwordnya Mohon tindakan atas ketidaknyamanan pemakaian apk ini ', 'Ini kenapa ya saya pas daftar akun gak bisa dipencet tombol yg selanjutnya padahal sdh mengisi nomor sm email yg benar ', 'Untuk beberapa kali pemesanan tidak dapat diteruskan dengan alasan nama tidak valid Mohon developer segera memperbaiki Terimakasih ', 'ini seriusan baru aja pesan tiket dr Kai acces kereta pramex dr yogyakarta ke kutoarjo masak selisih nya hari waktu wajar nya harus nya cuma jam lebih menit Aneh', 'Setelah diupdate kok malah payah aplikasinya ', 'Mantap Beli tiket jadi lebih mudah ', 'Gimana saya mau pesan akun saya tidak diverifikasi Verifikasi dr aplikasi lain sudah masuk lah KAI ini udah dicoba berulang gk ngirim ngirim juga Padahal duluan saya daftarin ', 'Kenapa saya gak bisa mengubah nomor ponselnya padahal pengen ganti nomor tapi malah gak bisa Tolong di jawab ya Terima kasih ', 'Tidak dapat mengubah no hp yg sudah di daftarkan mohon bantuannya ', 'Saya tidak bisa zoom in zoom out jadwal jd sebagian jadwal tidak terlihat', 'KAI TAIK masa udah bayar sampe tiket malah ga boleh masuk cuma gara beda identitas doang Dan itu gara aplikasi KAI Access nya tidak bisa di ganti data identitas untuk memesankan buat orang lain SAYA SANGAT KECEWA PAKE JASA KERETA API ', 'Ini kenapa pas verifikasi email kok gak muncul muncul notif nya satu hp harus orang dan untuk beli lagi yg punya hp harus ke daftar lagi', 'Aplikasi yg mempermudah pemesanan tiket ka i ', 'Punya saya selalu ada tulisan peemintaan ada sudah habis ', 'G like banget asli mending pindah toko sebelah ', 'Sangat membantu Terima Kasih', 'setelah pesan dan cekout gabisa buat cek cara pembayarannya atau mengubahnya', 'Luar biasa sangat membantu sekali Mudah dalam pemenasan tiket Terima kasih PT KAI', 'Semua berjalan baik ', 'Sudah dua minggu menunggu email untuk aktivasi tetapi ternyata belum ada juga Padahal sudah pake tiga akun tetapi tetap nihil Mohon untum developer kalau tidak mau rating kai access turun terus segera lakukan pembenahan ', 'Akses cepat tidak perlu mengantri ', 'tambahkan jumlah penumpang sampai orang batas pembelian tiket cuma bikin aplikasi yang bener lah kalian sudah digaji juga dengan besar lah emang klo kita sekeluarga jumlah orang yang lain mau bagaimana sudah layanan ga ada cs akftifnya ', 'Membeli tiket jd lebih mudah', 'Dulu ada metode pembayaran lewat link aja Kenapa sekarang gak ada Kesel sumpah ', 'Pelayanannya memuaskan sebelumnya saya pernah mengalami kendala ketika tidak bisa login harus saya acungi jempol kepada csnya yang ternyata langsung tanggap dan gerak cepat hanya dalam sehari akun saya kembali terimakasih KAI ACCESS dan CSnya yang begitu ramah dan langsung respon Sukses terus Jangan lelah untuk hadapai komplain dan masukan dari kami ya Semangat selalu ', 'Cara booking nya gimana ini sy booking buat orang tua sy pake akun sy bkn nama ortuq yg muncul', 'Kenapa email dan no tlpn saya blm diaktifkan Padahal sudah terdaftar Knp prosesnya jadi rumit untuk beli tiket kereta Klw semua pembelian tiket hanya bisa di akses dengan online aplilasinya harus menjamin kemudahan akses Lah ini di loket stasiun udah gk melayani penjualan tiket tp aplilasi buat beli tiket aja gk beres Mengecewakan', 'Ok aja deh ', 'Time out mulu Mau pesen tiket nggak bisa ', 'Parah parah daftar gak bisa cek email suruh verifikasi tapi gak ada emailnya yang masuk ', 'Selalu membantu perjalanan jauh maupun dekat ', 'Gak bisa verifikasi email udh punya akun nya tapi mau ganti nomor hp tetep gk bisa Gmna sih', 'gue kecewa sama kai masak gue ngajuin pembatalan ruginya lebih dari seharusnya balik rb ini malah di kasi rb doank woii jgn korupsi tolong main jujur ', 'Tidak bisa diakses baru buka sudah muncul tulisan timeout ', 'Sangat membantu dalam proses pemesanan ataupun pembatalan tiket KA', 'Untuk kreta api lokal jurusan brebes semarang atau tegal semarang ko gak ada yah Tolong yah lebih detail lagi padahal kan stasiun nya ada dan masih aktif ', 'Maaf min kenapa tiket ka lokal dari sumberpucung ke surabaya ndak ada yg ready ya Mau cari tiket dri sumberpucung ke malkot juva ndak ada tersedia ', 'Terbantu sekali dengan aplikasi ini maju terus KAI', 'Bapak ibu saya sudah mendaftar ko belum bisa masuk juga ', 'Dua jempol dah ', 'Aplikasi nya tidak berfungsi dengan baik tidak bisa login dan tidak bisa registrasi email verifikasi tidak pernah terkirim ', 'Mau buat akun aja susah Dah gnti email tetep ga bisa Katanya di inbox ke email Tp ga ada Gmna akunnya mau aktif ', 'Hahahaha dari minggu lalu mau mau pake ternyata saya belum login Lalu saya masuk yg sebelumnya emang udah punya akun kai trata blm terverifikasi emailnya tapi nggak ada email masuk aku coba ulang berulang kali nggak bisa karena emang butuh banget Akhirnya nyerah nggak setiap hari kucoba ttp nggak ada email untuk verifikasi masuk hmm tadi aku buka app suruh update ttus aku masuk akunku lagi ttp ngak ada email masuk hahahaha aku terlalu berlebihan buat berharap padahal ini bumn', 'Sangat membantu sukses selalu KAI ', 'Kenapa yaa kok gak bisa daftar akun ke aplikasinyaaa ', 'Merestart pin kok susah banget ya karena pandemi lama tdk di pakai bgtu mau di pakai harus masuk lagi ', 'Daftar akun email tidak terkirim ', 'Email verifikasi gk kunjung dikirim bagaimanaau login ', 'Kenapa nomernya sudah didaftarkan tapi terdeteksi belum terdaftar ', 'tolong lebih di perbaiki lagi untuk aplikasinya ', 'Verifikasi email ga ada terus ribet jd susah Mending naik kendaraan umum yang lain ', 'Good app simple sekali Tak perlu antri Sukses trus KAI ', 'Tariikk siisss semongko mantep bangett pokok pake aplikasi ini di jamin aman ', 'Kecewa bngt habis update kok mlh bisa di buka apk nya tolong segera diatasi min kare saya ingin membelu tiket buat NATARU ke malang', 'Susah buat masuk padahal ws daftar bolak balik hadeeeh ', 'Nyaman tenang santai ', 'saat melakukan pembayaran tidak bisa dan tidak bisa dimasukan keranjang ', 'KA access skrng telat brngktnya tdk sesuai dngn yg di jdwl ', 'Saya melakukan pembatalan melalui kai acces dan uang pengembalian yang saya terima hanya dari harga tiket paraaahhh begitu kah anda cari uang ', 'Payah gak bisa di pesan tiketnya capek bolak balek cek gak bisa nth macam mana hapus aj udah aplikasinya ', 'Email udah terdaftar giliran aktivasi email gagal terus pakai email lain sama gak bisa Mau reset password motifnya gak masuk Aplikasi apaan ', 'Terus time out waktu mai masuk Padahal dirumah pakai speedy ', 'Praktis simple cuma koneksi ke aplikasi link aja kurang cepat ', 'Jelek bgt nasib akun sama seperti yang sudah sudah ', 'Kemaren saya sudah boking tiket sekarang kok ngga bisa dibuka cuma muncul layar putih padahal kemaren baru diupdate ', 'KAI access bisa diinstal tapi ndak bisa login tidak hanya di KAI access saja tapi juga Web nya KAI yg sering trouble mohon ada maintainance di server dong biar ndak selalu trouble ', 'Bayar nya ribet knp ga bikin mudah bisa bayar di indomart atau alfa ', 'tambahin sih pembayaran via banking ribet banget pembayaran nya musti lewat aplikasi lain lagi harus download linkaja juga buat bayar sedangkan link aja kudu isi saldo dan isi saldo link aja pun ribet ga bisa pake banking idup kok di bikin ribet sih ', 'aplikasi KAI Access sangat membantu saya untuk transaksi pembelian tiket tingkat kan terus aplikasi nya ', 'Tolong sistemnya di perbaiki lagi kadang bisa dibuka kadang ga bisa mau kirim bukti gambarnya disini tapi ga bisa hehe', 'Ko kg bisa bikin akun email nya gk bisa ngirim verifikasi sih ', 'Bener memudahkan untuk berliburan', 'Punya saya eror gak bisa di buka mohon bantuan nya kai', 'Aplikasi ini belom seharusnya di rilis', 'Aplikasi teraneh yang pernah saya download Dan saya sangat tidak merekomendasikan applikasi ini untuk didownload karena proses pendaftaran akun yang sangat ribet dan metode pembayaran sangat buruk ', 'INi kenapa mau pesen tiket dari stasiun Rejosari Natar lampung selatan ke palembang gak bisa ya Udh berkali kali di coba gak bisa juga udh berhari hari di coba gak bisa juga masa iya sih enggk ada jadwal kebrangkatan kereta dari Natar lampung selatan ke palembang yg bener aja ', 'untuk KA LOKAL kenapa data penumpang tidak bisa diubah saya order tapi identitasnya beda tidak diperbolehkan oleh satpam tapi dari sisi aplikasinya daftar penumpang tidak bisa diubah terus harus bagaimana bos ', 'Aplikasi macam apa ini masa dari pagi sampai siang daftar akun aja gak bisa masok sangat mengecewakan rakyat miskin ', 'Sangat sangat teramat bermanfaat sekali ', 'Saya sudah daftar berkali kali padahal email dan kata sandi yg saya masukkan sudah benar masih aja salah terus saya harus daftar bagaimana lagi gajelas sekali aplikasinya', 'kenapa tiket dikai acess belom tersedia giliran buka dishopee hari yang sma sudah habis terjual ini bumn ko aplikasinya kaya sampah', 'Tidak bisa verifikasi akun ', 'Setiap update harus masukin data penumpang lagi hmmmmm ', 'Aplikasinya eror gak ketulungan Masak aku sudah aku sudah beli tiketnya udah bayar lewat linkaja eh waktu di cek tiketnya gak ada Toling dong di benahin lagi Udah sering timeout lagi padahal baru dibuka Aku pribadi kecewa padahal aku sering pakai kreta Dulu aplikasinya gak seperti ini ', 'Baru mau pake aplikasi nya semoga bisa mempermudah', 'Sebenarnya aplikasi ini sangat membantu untuk yg sering pulang pergi naik kereta supaya tidak kehabisan tiket tapi mohon ditingkatkan lagi pelayanannya Untuk pembayarannya jgn hanya link aja karna selalu bermasalah Coba gabung dgn ovo atau dana', 'Apaandah gak dapet email verifikasi mulu TOLONG LAH SAYA SUDAH DAFTAR TP DIMINTA AKTIVASI VIA EMAIL DAN BELOM DIKIRIM VERIFIKASI EMAILNYA GIMANA SAYA MAU LOGIN INI ', 'Susah daftar giliran verifikasi email gak ada yg masuk email dr KAIacsess', 'Dengan ada nya kai access sangat mempermudah memesan tiket kereta api', 'Aplikasi sudah bagus tapi sedikit salah pada pengiriman email saat update ke premium tidak bisa get nama lengkap cuma udah oke sih', 'Lebih praktis klo buat keberngktn mendadak ', 'Time out terus pdhl baru di buka Susah di akses sekarang tidak seperti dulu', 'Tidak bisa ganti nomer telp di data pribadi', 'Mantap Memudahkan pemesanan tiket dan resmi dari KAI langsung ', 'Akhirnya nisa kasih bintang Sekarang audah semakin bagus Jarang ada gangguan ', 'aplikasi nya susah banget login nya lama mohon diperbaiki agar lebih mudah digunakan dan tidak membingungkan makasih ', 'Fast respown deploimentnya dalam menangani masalah ', 'Beliin mertua tiket kereta lokal tapi penumpang kok selalu nama saya Mau tanya juga kemana Ga ada Cs nya juga', 'Kinerja tidak profesional pesen tiket penumpang tapi tidak bisa saya yakin keluhan ini tidak di tanggapi', 'Aplikasinyaa malah mempersulit Untuk pembelian lebih dr tiket harus diwaktu yg sama gabisa pakai menu tambah tiket sementara kuota tiket online sama offline dijadikan satu yg mana offline bisanya jam sebelum payah bgtt ', 'Sangat burukkk saya masukk suruh verifikasi email teruss balesannya gagal trus cs diemail gak ada respon', 'membaca sekian ulasan dari pihak KAI gk ada yg respon sama sekali ', 'Pelayanan lumayan bagus ', 'Taikk aplikasinya tiba keluar sendiri terus mau masuk gak bisa Padahal butuh hari ini asu', 'G bisa di proses padahal pas lagi butuh nya ', 'Kenapa sampek sekarang belom bisa diverifikadi email Admin minta tolong diperbaiki lagi dong ', 'masih banyak perlu peningkatan ketika kamu sudah beli dan bayar tiket tapi ketika mau di reschedule tidak bisa tutorial cara reschedule juga tidak bisa digunakan saat buka my trip selalu tidak ada trip nya padahl sudah beli tiket saat konfirm ke salah satu staff malah disarakan untuk beli tiket dari aplikasi dealmedan so untuk apa ada aplikasi ini wkwk ', 'Setelah update malah jadi apk rusak Padahal saya sudah masukin email dan password dengan benar tapi gk masuk masuk mending kembali ke versi lama gk usah di update gara gara ini aku males naik kereta api ', 'Aplikasi yg bagus ', 'semoga barokah ', 'Adanya Aplikasi ini sangat mempermudah semoga berkah ', 'Knpa gak bisa daftar ini aplikasi ya ', 'Response cepat dr KAI saat saya mengalami trouble TK ', 'Susah masuk app email konfirmasi tidak masuk sudah ganti email berbeda developer nya ngantuk ini pasti', 'Pegalaman luar biasa saat butuh tiket untuk satu kali keberangkatan dan terkendala peraturan di loket pembelian tiket akhirnya KAI Access lah solusinya ', 'Kalo pake nomer ya nomer aja Gak usah di kasih email Daftar sepuluh kali nomer udah terdaftar tp gk bisa masuk Kaya kai access paling benar sendiri ', 'Mohon maaf saya sangad kecewa kenapa setelah saya Update Kai acces malah akun saya tidak bisa digunakan tiap memasukkan Email katanya tdk valid padahal jelas saya Udah lama terdaftar MOHON Dg sangad TOLONG diperbaiki layanan nya ', 'Pembayarannya susah ya sekarang harus online semua ', 'klo beregian sekarang harus antigen ya rapid test biasa apa gak berlaku lg ', 'Aplikasi sangat membantu ketika saya menemukam problem pihak KAI access sangat fast respon dalam membantu memperbaiki ', 'Kangen naik kerta semenjak co vid sya gk bsa kmna mna bnyk tata tertibnya ', 'Sebelumnya sudah pernah masuk tertiba tiba keluar sendiri dan mau log in lagi susah banget Yang bilang password dan email no telp gak valid lah Coba ubah password sama aja ', 'bagaimana cara login susah banget buat login tolong respon ', 'Ini aplikasi nge bug atau gimana buat vertivikasi nya aja kok muter sampe puluhan kali yang bener kalau bikin aplikasi kalau nggak bener jangan buat ', 'Aplikasi yg sangat bermanfaat tapi sangat jelek Sering error dan loading terus Harus ditingkatkan lagi', 'Mudah sekali penggunannya kalau ada kesulitan akses pusat bantuan dapat bekerja dengan cepat Salutlah pokoknya tetep semangat terus untuk jadi lebih baik ', 'Auto un install apk ini Setelah ada perintah utk diperbarui apikasinya malah bikin susah aja masuknya Mending kalo beli tiket ke alfamart aja malah lebih enak dapat senyum dari mbak kasirnya lagi Sue lah ', 'ohh emang kai access nya lagi bermasalah ya pantas ajh tdi psen tiket ga bisa loadingnya terlalu lama ditunggu ga bisa malah keterangan pemesanan tdk muncul akhirnya psen lagi lwt wabsite kai malah langsung bisa smoga aplikasi ini cpt diperbaiki ya mksih ', 'Setelah di update tambah gak jelas Akun tidak bisa login Kirim tautan ke email sudah tapi tetep sama aja Tolong diperbaiki pelayanannya', 'Habis update malah hilang semua datanya malah disuruh daftar ulang lagi mau login juga susahnya amuuunnn', 'Disuruh verifikasi udah dikirim lalu saat dilaluka verifikasi ngak bisa karena mungkin sudah pernah diverifikasi lah saat mau masuk suruh verifikasi lagi terus muter aja gitu', 'Sebelum update lancar setelah update aplikasi malah mau login gagal teruss why ', 'gak bisa dibuka setelah update', 'Sangat membantu dalam cari tiket nya ', 'Sangat memuaskan ', 'Parahlah timeout terus setiap buka aplikasinya ', 'Aplikasi burik Gak bisa verifikasi email ', 'Mantap kai access ', 'Nmor nik KTP ada yang salah gimana cara benerinnya ', 'Kok sekarang yang kereta bandara sudah nggak ada di Menu KAI Access ya yang seputar Adi Sumarmo Solo sampai Stasiun Purwokerto ', 'Sumpah ya di install tp gabisa di bukaa', 'Aplikasi kurang optimal sering berulang isi id kurang access', 'Sangat membantu utk memesan tiket dan pembelian tiket kereta api ', 'Dapat melihat jadwal keberangkatan kereta ', 'Saya mau melengkapi imformasi pribadi semua data sudah saya isi namun kendala di identitas ketika saya menggunakan identitas KTA No Id tidak bisa di masukkan mohon solusinya', 'Sangat buruk saya pesan gagal terus ', 'Ga dapat email notif kai sistem onlinenya bobrok Parah BUMN kok gini ', 'Mantap jaya selau PT KAI ', 'Ini gmna sih udh bener email nya tpi gk bsa msuk ', 'Memudahkan pemesanan ticket terimakasih KAI ', 'Aplikasi BODOH booking tiket klo gagal bayar bagaimana cara bayarnya GOBLOK', 'kenapa gabisa log in sih time out terus padahal baru aja instal ', 'Apa sih ini login ga biaa daftar ga bisa Bantuannya dong cs', 'maaf satu bintang dulu soalnya aplikasi saya gk bisa loging ', 'Daftar sulit sekali ', 'Bintang satu dulu karena saat saya mengganti jadwal susah sekali penjelasannya id pessenger different padahal data sudah benar', 'Awal pake sih bermanfaat banget Tapi barusan pesan tiket udah dibayar juga eh malah server error Rugi dong saya udah beli tiket Tolong diperbaiki', 'update versi terbaru malah ga bisa login ', 'Parah asli ngebatalin proses pengembalian nya harus hari kerja ga sepadan sama uang nya', 'Pelayanan sangat baik kereta bersih tepat waktu memang Joosss ', 'Tolong dong aplikasi yg bisa dipakai kami sangat membutuhkan loket go show tidak melayani setiap kali mau masuk kok masukan kode verifikasi sedangkan ditempat kami tidak ada email kami tunggu respon nya ', 'Pelayananya sangat buruk gimana ini udah terdaftar ga bisa dibuka mhn dikondisikan boss apa ga ada sainganya kok sembrono', 'Gimana sih orang mau pesen juga ngelag terus padahal wifi lancar jaya Nggak boleh pesen apa gimana Benerin dong banyak yang ngeluh noh', 'mudah dan mendukung saat ada rencana bepergian ', 'Ribet setiap pembaruan masuk email nomer lagi terus tulisannya email sudah dipake maunyaaa apa sih', 'Terima kasih KAI Access telah memberikan yang terbaik untuk kita semua ', 'koq tidak bisa ganti nomer hape yg sudah terdaftar ya tolong di cek ulang terimakasih ', 'memudahkan pelanggan memesan tiket ', 'Dengan aplikasi ini jadi lebih mudah pesan tiket ', 'Kenapa ya saya mau login kok permintaan telah timeout Berulang kali saya coba tapi ttp tdk bisa', 'Ga jelas bngt aplikasi kaya gini', 'Daftar kagak dikirimin verifikasi email Gimana bisa log in ', 'Gak bisa aktivasi udah dapat link aktivasi di email udah di klik tetep aja gak bisa perbaiki dong appnya', 'KA rute yg saya pilih tidak ada dan tidak lengkap ini pilihannya padal biasanya juga ada', 'Gak bisa booking tiket KA lokal Padahal terakhir update bbrp bulan yg lalu udah bisa payment pake ovo gopay', 'Aplikasi goblok Woyyy email verivikasi nya mana masuk tolol ', 'Untuk masuk ke Pesan Tiket itu sulit sekali Tdk praktis ', 'Bagaimana cara pesan tiket buat lebih dari orang Mohon penjelasannya ', 'Kalau saran saya sih mending dikasik jarak Kalau isi yha jadi kalau isi ya diisi jangan duduknya dempet an sebel aku kalau sebelah orang gk dikenal apalagi lagi hamil juga ', 'Kirain gw sendirian tnyta banyak jg diulasan emang aplikasi paling paling buruuukkk songong bgt ini aplikasi ', 'Mau daftar susah banget sih belum juga daftar katanya akun gagal ', 'Susah sekali login nya Sampai capek saya ', 'email verifikasi lama ga terkirim padahal sudah minta kirim email ulang bbrpa kali nomor telp dan email sudah terdaftar tidak bisa di pake jg ', 'KENAPA SUSAH BANGET YA NERIMA EMAIL BUAT AKTIFIN AKSES NYA KAN KL BEGINI SAYA GA BISA MESEN LEWAT KAI ACCESS DONG UDH BERKALI KAL MINTA BUAT KE EMAIL TP DI EMAIL NYA GA DI KIRIMIN LINK BUAT AKTIFISASI NYA GIMANA SII INI KAI NYA ', 'Pesanan hanya untuk pribadi mw pesan sekeluarga tidak bisa lebih dari ', 'Aplikasi tai bolak balik isi no KTP klik pesan isi KTP lagi isi no KTP lagi buang waktu aplikasinya gambaran SDMnya sm sekali ga berkualitas sy sarankan yg mw download urungkan aja aplikasi ga becus', 'Menyenangkan ', 'Sangat membantu ', 'katanya aplikasi mau mempermudah rakyat naik transportasi umum ini mau daftar aja susah amat gk masuk ', 'Update an baru kok malah menyusahkan requested time out terus ga bisa login tolong di perbaiki lagi min ', 'Susah sekali mau masuk Lupa pasword aja di persulit Ini namanya bukan kemudahan tp dipersulit', 'Aplikasi apa ini gag bisa jalan Ruwet', 'Registrasi erorr ', 'Sangat membatu ', 'Setelah update malah login ulang lagi ', 'Kenapa sering disuruh upgrade si ribet banget serius jadi lupa akun password dll giliran suruh verifikasi dicek di kotak masuk sama spam gaada KZL', 'Saya tidak bisa melakukan pembatalan tiket kereta ', 'Enak banget kalau beli tiket dadakan asti masih bisa', 'Tidak membatu masyarakat sama sekali aktifasi akun gagal trus cs di hbngi masak sedang melayani kastamer laen ya trus kan aneh perbaiki playanan ya trimakasih', 'Saya selalu menjadi pelanggan setia KAI Access ', 'pokoknya andalan bgt deh semuanya jadi mudah tanpa biaya administrasi pula ', 'Sangat Membantu terima kasih banyak ', 'Aktivasi buat akun baru kok lama ya tolong konfirmasinya kai bagaimana nih ', 'Disuruh cek email mau verifikasi tapi email ga masuk masuk', 'Setelah di perbarui kok malah gk bisa masuk ya email sama kata sandi kok gk bisa di pake sebelum di perbarui bisa kok saran nya donk man teman gmna bisa di pake lagi kai access nya soal nya mau di pesen tiket buat pulkam nie Trima kasih', 'Ini gimana udah di daftarkan belum di verifikasi juga udah nunggu lama bgt lg aduh gimana sih ini', 'Sangat membantu pesan tiket', 'Mantappp sekali ', 'Kenapa pas mau bayar di ubah tanggal selalu kadaluarsa', 'Suruh konfirmasi email stelah di tunggu gak muncul pesan konfirmasinya Terpaksa uninstal ', 'tidak berguna udah capek jalan kaki ke indomart eh sampai stasiun harus pakai surat kesehatan hangus kan Rp ANJING pemerasan ANJING Rp ANJING makan ilang ANJING ANJING ANJING ANJING', 'MENGECEWAKAN Kenapa kAI acces tidak bisa di gunakan baru kali ini saya mngalami kesulitan padahal biasanya lancar aja bagus sekali kenapa saat ini mengecewakan SEMOGA LANCAR KEDEPANYA ', 'Aplikasi apaaan ini ', 'Sangat memudahkan ', 'Log in nya susah banget sangat di sayangkn ', 'Kok bisa login ini gimana ', 'Nga bisa nambah jumlah penumpang dimpilih Cuman garis putih ', 'Koq ekonomi saja ya Eksekutif koq ndak ada ', 'Kecewaa buang waktu pesan di sini saya udah pesen tiket jam sore klo tiket nya habis langsung otomatis di pindahkan ke jam dan tdk ada pemberitahuan setelah sukses tiket nya pun tdk bisa di ganti ke jam lain padahal jm segitu saya masih ada urusan Lalu saat datang ke stasiun pesan tiket selalu habis yg ada pemberangkatan setelahnya harus nunggu jam Sebenernya bkan masalah tiketnya tpi waktu saya terbuang percuma saya pesan dri jam tpi kebagian jam ', 'login knapa gagal terus padahal pass udah bener tp harus masuk email trus gagal lagi gagal lagi', 'Server cacad error Tololl developer nya ngapain si Mau booking tiket malah gitu terus Ngapain buat app kalo ga bisa di pake TOLOL', 'Gk bisa di gunakn Padahal udh sering saya up tp sama ajh ', 'Email virifikasi tidak masuk mau naik lereta aja ribet kaya mau ngajuin anggaran ke negara', 'Bobrok banget kepengurusan telfon operator gak bisa di apk susah banget lgoin dan pesan tiket', 'Kak mau tanya gimana cara mengganti no hp dgn yg baru karena nomer lama sdh mati tidak bisa di pakai lagi', 'Apk apa ini Udah mau daftar ngga dikirim kode verifikasinya ngga jelas web nya ', 'Ngga bisa di accesssssss ', 'Setelah diupdate tidak bisa login Walaupun sudah direset tetap tidak bisa login Sudah reset beberapa kali Sudah dihapus cache memory dan sudah restart HP tetap saja gagal login ', 'Awal download ini ga bs login pdhl dh dftr trs dh bs login dr pke data data yang lain skrg mo plih kursi ga bisa knpa ya saya pke versi ', 'Memudahkan Perjalanan kereta api semakin menyenangkan', 'Kalo ada yang perlu dibawa kaya surat sehat ato semacamnya kasih info di app nya dong jadi ga bisa naik gua GOBLOKK ', 'Praktis cepet bagusss', 'Kenapa kai mala gak bisa di buka setelah update ', 'Kenapa saya tidak bisa login padahal saya sudah ganti pasword via email berkali tetap tidak bisa', 'Bapak saya mau pesen penumpang saat pemilihannya gk bisa diteken padahal kalau buka tanggal tujuan itu bisa Trus saya coba penumpang saat ringkasan pemesanan apl tidak bekerja sudah saya teken lanjutkan gk bisa Ini sih bikin susah penumpang padahal pembelian tiket ditempat dgn protokol kesehatan pas hari biasa bukan idul fitri natal imlek kan enak tuh sepi Sebaiknya tiket lokal buka web aja pak kaya pembelian tiket antar kota gk ada masalah sama sekali ', 'Kualitas makin bobrok error terus padahal sinyal bagus', 'GA BISA MASUK DAFTAR SUSAH BANGET APK NYA DIBENERIN LAGI DONG UDAH BENER MASUKIN TETEP AJA GA BISA BUG', 'KENAPA SAYA HRS MASUKKAN DATA DIRI LG BERULANGKALI SETIAP PESAN TIKET PDHL DI AKUN SY SDH ADA ', 'Luar biasa sangatt mudahh dan cepat', 'Lumayan bagus tolong tambahkan lagi metode pembayarannya ', 'Mau pesen kok susah sih selalu minta nomor ktp', 'Sangat membantu untuk pemesanan tiket ', 'Kenapa Waktu kita mau pembayaran lewat link kok gak bisa', 'Berkali kali kirim ulang link verifikasi akun Tidak ada satupun yang masuk email cek spam Promosi dll Tetap ad Beneran berfungsi sih ni aplikasi ', 'Pembatalan tiket tidak bisa di laksanakan dan rumit', 'Jadi lebih mudah pesan tiket kereta ', 'Sudah diinstal mau daftar tapi email verifikasinya tidak masuk Kecewa', 'Min informasi terbaru ttg persyaratan naik kereta apa benar harus menunjukan hasil swab antigen Mohon infonya', 'Setiap update ini aplikasi klow mau pesen tiket lagi jadi ruwet udah masukin akun tp gag bisa ', 'Sudah beli tiket setelah aplikasi diperbarui tiket malah hilang bagaimana tanggapannya Tolong segera dibalas', 'Yang seharusnya jadwal ada tiba tiba tidak ditemukan setelah saya update aplikasi tambah tidak bisa digunakan Toooolllloooong perbaiki', 'Lbh mudah kalo lg nyari tiket ', 'Aplikasi yang sangat membantu ', 'Tolong diperbaiki tidak bisa booking tiket karena kendala tidak bisa update akun forbidden something went wrong untuk pelayanan payah bugs terus', 'Maaf sedikit kecewa Karena setelah update aplikasi selalu Tidak bisa mengentri data penumpang dan ', 'Aplikasi tidak berfungsi sm sekali kadang semua stasiun nya muncul sy mau ke stasiun pucuk lamongan kdg muncul kdg ga muncul ', 'Terima kasih KAI Sungguh sangat membantu ', 'beli tiket lokal ribet pakai aplikasi ini itu sudah di ikuti dan berhasil bayar malah tiket gagal saldo ilang tiket ga dapat permainan macam apa ini', 'kecewa pada saat pesan tiket ga bisa proses pembayaran mohon diperbaiki ', 'Seru sekali pakai KAI Access karena bisa pilih kereta dan kursi', 'Sayang banget nih Masa Email aku gabisa diaktivasi Akhirnya jadi gabisa ngebatalin tiket deh Hadehhh ', 'Sangat membantu semoga kedepan reduksinya bisa di gunakan kembali', 'gimana ini masukin id penumpang lain buat pesen tiket atas nama orang lain tidak bisa ', 'Makin sulit untuk login no sudah terdaftar verivikasi email tidak di kirim', 'Semenjak di Upgrade jadi kek gini KAI pesen tiket stasiun jam sebelum berangkat kalau di Apl nya bisa aja ampasss ', 'Daftar bisa suruh konfirmasi di email lah email verifikasi nya aja kaga dikirim ', 'Sangat membantuu untuk pembelian tiket online', 'Bagaimana cara menambahkan Penumpang nya lagi ya Kok cuman bisa daftar penumpang nya ', 'Sangat bagus tapi lbih bgus lagi kalo tiap perjalan di mintai saran nya Karna kadang saya pribadi mrasa rugikan ', 'Kenapa di link kereta api lokal pada kolom penumpang bisa milih penumpang lbh dri penumpang Mohon penjelasannya', 'Mau aktivasi aja ribet katanya udah dikirim nunggu ber jam jam kagak ada', 'saya sangat suka aplikasi kai access sangat membantu saya membeli tiket kereta api lokal penataran dhoho di stasiun malangkotalama tujuan malangkotalama jombang ', 'Sangat membantu ', 'Coba dullu soalya pas saya mau buka blm bisa dari kemarin ', 'Kenapa verifikasi email gak prnh masuk uda brpa lama nunggu tpi ttap gk masuk ', 'Apl banyak bugnya di pake ', 'Saya edit nih ulasan saya semuanya sudah diperbaiki terutama jalannya aplikasi saat kecepatan internet rendah Cuma transisi dari KAI Access ke LinkAja perlu dibenahi dikit soalnya kadang LinkAja ngga ngerespon Boleh deh', 'Sangat mempermudah dalam pemesanan tiket kereta api', 'Mohon maaf saya merasa kecewa karna kemarin saya naik kereta padahal saya udh memesan tiket lewat apk kai access tapi barcod nya tidak muncul dan harus di print di loket jam sebelum keberangkatan sedangkan saya sedang buru buru sampe ketinggalan kereta karna harus ikut antre dengan yg memesan tiket mohon untuk di tingkatkan lagi pelayanannya kalo seperti itu buat apa pesan tiket lewat apk dong kalo sama sama antre dan saya baru pertama kali print barcod di loket trmksh', 'Sebenarnya sangat membantu sekali namun sepertinya perlu pembenahan yg lebih baik lagi Sudah jam otak atik ini aplikasi buat pesan tiket tapi belum bisa juga lebih baik langsung pesan di loket saja menit beres ', 'Saya beli tiket tgl aplikasi dipakai lancar hari ini saya mau chek lagi kenapa susah sekali buat buka aplikasinya Harus login kembali dan saya lupa password tpi sulit buat verifikasi passwordnya kenapa inii padahal besok jadwalnya berangkat ', 'Bagus banget Suka Alhamdulillah terbantu', 'Lama masuk nya email sama nomer terfon nya gk bisa cepat masuk Padahal urgent Serah lu aja lah yg bikin aplikasi ', 'Saya kasih bintang dulu karena saya udah coba login dari tadi siang gabisa udah reset password lewat email juga gabisa login Tolong di bantu ya saya benar benar lagi butuh saat ini ', 'kalau bisa di tambahkan fitur mengubah nomer telfon ya min ', 'Aplikasi tidak bisa diverifikasi Lewat email udah minta kirim ulang ttep ga ada verifikasi komplain ke CS stasiun ga ada solusi payah ', 'Niat bikin apliaksi gak sih udah bikin sandi ribet verifikasi eror', 'utk tiket kereta api lokal gk bs direschedule jadwal yg bisa cuma tiket kereta api non lokal antar kota perbaiki dong', 'aplikasi gak jelas time out trs gak bisa login ', 'Kenapa saya tidak bisa masuk daftar di aplikasi nya tolong perbaiki aplikasi nya ', 'Apakah Kalau pakai apk ini gak perlu di cetak tiketnya ', 'Banyak kendala CS KAI slow respon tolong diperbaiki lagi ', 'APLIKASI GAK JELAS UDAH REGISTRASI EMAIL UDAH KLIK LINK REGISTRASI JUGA TAPI PAS MAU LOGIN TULISANNYA AKUN BELUM DI VERIVIKASI BUKANNYA MEMPERMUDAH MALAH MEMPERSULIT ', 'Untuk refund yg hanya nominal skitar rb saja terlalu lama hrs menunggu smpai hari krja', 'Smoga tambah sukses dan pelayanannya lebih baik Semangat ', 'Tiap mw login udah ganti password tp pas masukin password yg baru dia malah tetap mw login ini kenapa mw cancel tiket padahal ', 'Susah kalo mau daftar kai server eror lah Ngga recomended si ', 'Ini kenapa saya tidak bisa log in padahal saya sudah dapat email Dan saya sudah minta bantuan agar bisa log in tapi tetap tidak bisa ', 'sangat memudahkan pelanggan untuk pesan tiket', 'Aplikasi ini sangat membantu dalam pemesanan tiket kai semoga kai semakin maju dan diperbanyak kereta lokal di tiap daop untuk mengurangi kepadatan lalu lintas dan bisa menjangkau stasiun kecil dan semoga kai bisa menjadi moda transportasi darat yang paling efektif maju terus PT KAI ', 'Terima kasih sudah mensupport perjalanan saya ', 'Ok sangat membantu ', 'Sekarang tidak bisa diandalkan udah ngandelin kai dri dlu tapi saya kecewa hariini gara yg baru lebih ribet jadi kehabisan tiket semoga lebih baik lagi dan ditingkatkan lagi', 'Dari awal co vid baru mau naik kereta lagi lama ga dibuka kok tambah gak bisa setelah diperbarui keluar tulisan waktu anda telah habis terus Sumpah knp sih pak ', 'Sangat membantu dalam proses pembeliaan atau pembatalan tiket semoga kai semakin jaya ', 'Tidak bisa diaccess kembali Jadi susah untuk memakai aplikasi ini Sangat kecewa', 'Aplikasinya agak ribet pegawainya stasiun kurang ramah tlg diperbaiki ', 'Aplikasi kai access semakin kesini semakin tidak user friendly data diri padahal sama tapi selalu tidak dapat terakses ', 'Jadi Memudahkan perjalanan saya dan pembelian tiket yg sangat ', 'Apa an ini aplikasi gak bisa di pake bukan nya di mudahkan malah tmbah repot masa kalah ama supermarket', 'Semakin oke semakin praktis dan membantu ', 'Bangus banget sangat membantu', 'Lagi lagi suruh relog in Pasword udah bener Sampai aq reset pasword ganti password baru ttep gk bisa log in Wkwkwk tolong di perbaiki team IT', 'tolong dong saya ngga bisa bisa login nih udah bolak balik verifikasi juga gagal terus', 'Disuruh aktivasi akun lewat verifikasi lewat email Tp ga dpt email verifikasi sama sekali Sudah kirim ulang tetep aja ga dpt ', 'Baru diupdate mlah ngelag terus pdahal jaringan lancar ', 'Menyenangkan perjalanan naik kereta api ', 'Perusahaan gede BUMN masa gabisa nanganin bayar teknisi buat aplikasi ini astaga ', 'Untuk keberangkatan tanggal Januari ko belum tersedia ', 'Aplikasi gak bermutu Susah banget mau pesan tiket bukannya mempermudah malah mempersulit verivikasi smpai skr belum kirim Gini kok katanya lebih baik pelayanannya Tanda Cuma mau meniru tp gak mau belajar dr aplikasi jualan tiket yg sudah ada ', 'applikasi sampah sumpah sangat menyusahkan ni kai acces bukannya dipermudah dari dulu ampe sekarang tetap aja ruwet gak ada kemajuan disaat applikasi yg lain uda berkembang kai acces tetap aja msh bobrok betul sampah bukannya dipermudah malah dipersulit gak mutu', 'Aku pakai kai Access di palembang ngak perlu print ya namanya jg tiket elektronik Tunjukin tiket lewat hp tiket cocoki identitas diri ktp di pesawat jg gitu Ehhhhh di tanjung karang lampung ribet amat harus di cetak segala lama dan ribet Apa pegawai KAI bandar lampung GAPTEK semua ya Ngak ngerti nama nya tiket elektronik d kesel ', 'Sangat membantu ketika membutuhkan info KA selain pada KAI ', 'Kereta Api Seharusnya Perjalanan Malam Lampunya Di Matikan biar view malamnya indah ', 'Tidak ada pengumuman ketika peraturan keberangkatan berubah yang berakibat cancel keberangkatan', 'Gimana mau pesan merubah tgl lahir dan nambah penumpang jadi aja gk bisa padahal mau beli ka lokal ribet', 'Aduh permintaan anda telah timeout Aduh permintaan anda telah timeout Aduh permintaan anda telah timeout Begitu saja terus sampai ikan bisa terbang om ', 'Min cara restart nomer gimana ya Saya lupa email yg saya daftarin Jadi gk bisa masuk Terimakasih', 'Untuk yang kereta lokal kalau pagi pagi apa tidak bisa buat pesan ya min ', 'Aplikasi bkin emosi slalu slah pdh email kt sndi sudah bnar ', 'Buat yang punya kendala sama app ini mending DM aja ignya KAI adminnya gercep langsung dibantu ', 'Aktivasi email ga keluar gimana ini Pasti ga direspon pasti mengecewakan dijamiinnnn ', 'Kenapa mau daftar susah dilanjutkan', 'Aplikasi nya lama kali kalo pas bukanya kadang gak bisa dibuka kalo bisa diupdate lah', 'Lemot bener Apk kog gini amat Sinyal udah masih aja lemot Sistemnya kurang baik Tolong di perbaiki lagi ', 'Harus nya abis update apl malah semakin bagus tapi ini knpa fitur ny jadi kurang bagus begini kecewa sama fitur update an nya semoga bisa perbarui lg', 'Bintang dlu cek jadwal ehhhhh gk da jadwal keberangkatan apk susah utk dpke mkin ribet', 'Mau daftar udah berhasil email sama no tlp udah benar tp nunggu kode verifikasi dari siang smpai mlem belum jga dapet Pdahal hari kedepan lagi btuh tiket kereta katanya klo beli di loket harus hari ', 'Mau daftar udah masukin no tlp email tapi katanya no tlp udah terdaftar pdhl sblm nya blm pernah daftar coba pakai no tlp suami sama aja Ga banget', 'Setiap kali mengisi email no tlp sudah terdaftar tp mau masuk sulit sekali tdk ada respon sama sekali sangat mengecewakan tdk membantu sama sekali dengan adanya pembelian tiket secara online ', 'Memudahkan perjalanan kami ', 'Kecewa gitu aja titik ', 'Kenapa pas pesen tiket di suruh melengkapi profil tetep gabisa untuk beli tiket', 'Aplikasi parah Verifikasi email ga masuk Payah', 'Ini untuk pembatalan tiket KA lokal gmn kok nggk bisa ', 'sangat membantu dalam memesan tiket ', 'Aplikasi aneh tiket yang dipesan tidak bisa di bayar untuk kereta lokal', 'Kebanyakan bug nya nih buat boking login Hadeh ', 'Okey saya sudah bisa masuk sekarang Tapi tiket sudah habis yang mau saya pesan bye ', 'Aplikasi gajelas Mau pesen tiket ngulang data diri terus Gajelas ', 'Sangat membantu biar ga ngantri di loket ', 'Kenapa kok gk bisa masukin akun gimana iniii Solusinya ', 'Mau daftar susah nunggu verifikasi nya lama banget udah hari', 'Ayo maju Indonesiaku ', 'Sistemnya parah login gak bisa Buat akun baru verifikasi gmail pesan gak masuk di gmail Baru kali ini sangat mengecewakan Masa iya saya harus ganti nomor lagi agar bisa daftar ', 'Aplikasi kai tp sistem nya kayak apa aplikasi tidak berguna', 'tolong diupdate agar bisa ganti nomer telepon di aplikasinya ', 'Aplikasi cacat lengkapi data ko gak bisa Perbaiki lah malu masa kai kayak gini Gimana mau belo tiket', 'parwot benar alamt email bener kok gk bs msk', 'Tidak dapat reschedule Prameks Dan tidak bisa edit no HP di account ', 'Berulang kali saya mau pesan tiket dari aplikasi kai access tapi engga bisa juga tlg di perbaiki lagi app nya supaya lebih mudah akses nya', 'Email verifikasinya tidak terkirim padahal sudah berulang kali lakukan kirim email verifikasi ', 'Masuk aja susah di email juga gak ada balesan ', 'Untuk verifikasi sulit email gak masuk terus ', 'Semoga depan PT KAI bisa tambah lebih baik lagi maju ', 'Durasi Pembatalan Udah Satu Bulan Lebih Tapi Kok Uangnya Belum Masuk Ke Rekening Saya Ya Tolong Penjelasannya Pihak KAI', 'Sangat membantu syekali ', 'Lihat komen banyak yg bilang susah buat verivikasi akun eh setelah dicoba ternyata itu semua benar Kesel deh ', 'ini kenapasih ga bisa daftar tolonglah diperbaiki saya butuh mau pesan tiket langsung ke loket gabisa', 'ditingkatkan jg sistem reschedule kereta lokal dan ada sistem member parkir motor atau mobil di area parkir KAI ', 'Kok tambah lama tambah mbulet gtu ya Saya pesen pembayaran lewat aplikasi link tinggal mengiya kan aja lama banget malah menunggu Mksudnya apa gtu kok di suruh menunggu dengan waktu terbatas Jangan gtu woyyyyy', 'Verifikasi nya gak bisa bingung gw ', 'Banyak yg komplain tapi tidak ada balasan dari admin kasus saya juga sama dengan yg sudah pada ribut sebelum saya jadi malas jelasin lagi percuma gak di tanggapi Hahahahahahah ', 'Verifikasi Pembayaran sangat lelet transfer ovo telah berhasil tetapi di Apk KAI Access belum berhasil sampai waktu yg di tentukan hangus Duh ', 'Mau bayar metode pembayaran pakek intermet banking kenapa GK ada pilihannya di apl saya hanya ada link ajja', 'Email verifikasi gak terkirim layanan buruk Yang mau pake aplikasi jadi gak bisa log in ', 'Kok saat minta aktivasi kok tidak dapat Pdahal sampai pakai email di buat lagi tdak mendapat aktivasi email', 'Kenapa jadi gk bisa pesan tiket Harus isi identitas terus keluar lagi isi identitas lagi Gitu aja terus Ini mau pesan lewat online kok jadi gk bisa ', 'Tidak bisa update min ', 'Sangat jelek untuk verifikasi nya masih belum berjalan sampai sekarang saya masih belum bisa mengkonfirmasi walaupun saya sudah daftar sejak kemarin', 'Ini saya mau input data dari kemarin kok gk bisa bagaimana ya', 'Layanan KAI yang menurut saya perlu ditambahkan fasilitasnya adalah disediakan area tunggu bagi penumpang yang menunggu dijemput telah menggunakan jasa layanan KAI di dekat pintu keluar stasiun Terimakasih ', 'Kira yg kerja diPT KAI pernah nyoba aplikasi ini ga Ko tiap kestasiun nyuruh download aplikasi ini ', 'Tanggapan sama dengan yang bintang lainnya ', 'Kenapa gak bisa masuk akun KAI nya pas daftar ulang katanya udah pernah terdaptar tapi pas coba masuk akun KAI di suruh konfirmasi akun lewat link tapi pas di coba Link nya gagal terus malah di suruh login dan pas di coba login terus aja di suruh konfirmasi akun lagi Apa yang salah ', 'Setelah update dan upgrade malah makin jelek UX nya lambat respon ', 'Tolong klarifikasinya saya kemaren sudah rapid test di stasiun dan sekrang tidak boleh cuman rapid test aja harus rapid antigen Ini gmna saya sudah terlanjut rapid dan saya harus brngkat tgl Tolong klarifikasi secepatnya Kalo bisa ada kofensasi buat yang sudah rapid test di stasiun Supaya bisa tetap brngkat ', 'Kecewaaaa parah deh pokoknyaaaaaaa udah gak bisa muji lagi aplikasi ini unek udah di wakilkan sama masyarakat yg lain', 'Gimana cara dapat poinnya masak udah kali pesan dengan id yang sama tapi point nya masih tetep gk nmbah nambah apa cuma untuk promosi aja ', 'Tolong diperbaiki menu pilih kursi saya sudah note nomor kursi yg menghadap maju sesuai jalan kereta tapi sering dapat yg menghadap mundur saya kurang nyaman dengan ini ', 'Udah beli tiket saya log out trus mau login lagi gak bisa maksudnya apa coba ', 'Gemana mau ngerasa puas giliran ndaftar sudah masukan nmer tlp akun jg jawabanya masih imel salah lah nmer salah lah giliran ndaftar lg katanya sudah terdaftar giliran mau masuk gk bisa masuk login plah suru ndaftar lg ', 'Susah banget buat booking yg lokal Tolong segera diperbaiki sistemnya ', 'Semakin baik dalam pelayanan Aplikasi sangat mempermudah dalam pemesanan tiket ataupun yg lain terimakasih KAI kami sangat terbantu disituasi saat dibutuhkan Disarankan buat yg belum download segera isi hp dng Aplikasi ini bermanfaat banget ', 'Padahal mau orderkan orang lain tapi penumpang harus data sendiri dan maxsimal order cuma bisa orang ', 'Gk bisa login padahal email dan sandi udah benar coba daftar pake akun lain tetep aja gk bisa login ini gmna ya', 'Aplikasi kai acses jelek sekarang soal nya pas di buka aplikasinya dan gambar menu nya tida muncul ngga seperti biasanya tolong dong di perbaiki agar seperti bagus dan normal kembali seperti biasanya gitu bos ', 'Tolong diperbaiki dong masak udah masukin NIK KTP mau pesen malah gabisa sih Kembali ke menu pemilihan kereta terus ', 'Cukup membantu tuk yang tidak ada diskon ', 'Min Mau atur ulang profil ubah nomor telepon bisa nih Payah Kan jadi susah ', 'Udah yang keseribu kalinya log out sendiri mau login salah terus emailnya padahal bener Capek mana layanan cust service engga selalu ada di stasiun hmmm nikmanya ']\n",
            "Data Test :  ['mau daftar susah ga dapet verifikasi ', 'Kak ini gimna pesen tiket udah di bayar tapi status nya udah kadeluarsa tiket nya ', 'Memudahkan untuk mencari tahu info perjalanan dan pemesanan tiket KA', 'Kenapa jd sering macet Ga mau koneksi pas uda isi data Tinggal cekout bayar ga pernah mau', 'Klo ada bintang separo sy ksh penilaian bintang separo Gk bs login bknnya tambah mdh dgn update aplikasu malah ruwet ruwet ruwet M Y R Aduh Permintaan anda telah timeout Aduh Permintaan anda telah timeout Aduh Permintaan anda telah timeout Aduh Permintaan anda telah timeout Aduh Permintaan anda telah timeout ', 'Disuruh verifikasi tapi email confirm verifikasinya ga muncul udah jam nunggu ngerefresh kotak masuk email terus ', 'Verifikasi Email nya dong kok GaK masuk masuk adminnya tolong segera perbaiki lagi kinerjanya terimakasih', 'Pembayaran debit online gagal terus Perbaiki ', 'Aplikasinya sekarang sudah semakin baik Kemudahan dalam memesan tiket kemudahan pembayaran dan mudah dalam mengoprasikannya Nice KAI ', 'Berbelit belit untuk verifikasi akun Gak bisa terus Udah ganti email udah dapet link buat verifiaksi tapi akunnya muncul sudah terverifiaksi ketika mau log in yg muncul akunnya blm terverifikasi Kalo gak boleh daftar gak usah bikin aplikasi Dulu keknya gak seribet dan ribet ini Sumpah ini aplikasi gak membantu ', 'Mempermudah pemesanan tiket menghemat waktu ', 'Aku sudah datfat aku keluar terus masuk email Katanya email tidak dikenal Aplikasi menyusahkan orang mau naik kereta ', 'Ketik lupa password email malah tidak dikenali paraaaaah', 'Kaga jelas ga bisa masuk suruh verifykasi tapi ga dapet email tautan di email cs nya ga dapet feedback', 'Beranda Aduh Permintaan Anda telah timeout Riwayat tiket tidak dapat dilihat Kesimpulan tambah lemot dari sebelumnya ', 'Mempermudah pelayanan kereta api ', 'Trima kasih sangat membantu ', 'Aplikasi yang mudah simpel cepat ', 'Saya mau masuk susah saya sudah klik lupa sandi dan memasukkan alamat email tapi malah alamat email tidak di temukan saya harus bagaimana ini ', 'Mksh aplikasi ini sangat membantu dalam mencari dan memesan tiket kreta suka suka dan sukaaa', 'Menyenangkan ', 'Bagsu sih tapi kalo ram full tiket bisa hangus', 'Gimana kisah mau beli tiket lewat apk udah daftar tinggal verifikasi kok link nya gk masuk ke email terus ini gimana solusinya Adanya aplikasi but mempermudah ini malah diperibet', 'Bayar pake link aja Di kai ga terkonfir di link aja terkonfir bayar Uang habis malah kai gak mau bertanggung jawab ANJIM EMANG', 'Cepat praktis simpel indonesia ', 'Maaf tapi ini aplikasinya tidak bisa diakses pdhl sudah download sampai kali', 'Ka lokal dhoho penataran perlu nambah gerbong klo bs gerbong karena peminatnya cukup banyak Trims ', 'PELAYANAN CS WHATSAPP SANGAT AMAT BURUK KETIKA SAYA MENGAJUKAN REFUND LUAR PULAU DIBILANG GA BISA BILANG REFUND WA HANYA SAMPAI TGL ORANG SAYA MAU BATALIN KEBERANGKATAN TGL ANEHNYA REKAN SAYA MENGAJUKAN REFUND LUAR PULAU BISA PILIH KASIH DAN TIDAK PROFESIONAL ', 'Kenapa kok gak bisa login berkali kali verifikasi email blm ada respon hari Mohon diperbaiki ', 'Mantep deh buat kai aplikasine bagus dan menarik ', 'Puas pakai kai access Mempermudah kita dalam pemesanan tiket ', 'Setelah di perbaharui Mau masuk time out terus ', 'Jam pemberangkatan dan jam tiba tepat waktu khusus KA ekonomi Kerta Jaya ps Senen Jakarta ps Turi Surabaya yg tiba dini hari jam mohon disediakan tempat Istirahat bagi yg mau melanjutkan perjalanan Demikian usulan kami Tks', 'aplikasi paraah ga bisa pesan malah loading terus ujung ujung pesan via aplikasi sebelah ', 'Mahal persyaratanya dibanding harga tiketnya ', 'Aplikasi AMBURADUL sdah masuk pake Email sy balasannya Email tdk terdaftar daftar pake email baru tp gk bs verifikasi APLIKASI RIBET ', 'Verifikasi lama amat bang Niat gak sie ', 'Aplikasi mengecewakan stiap kali update akun slalu kluar gliran mw login malah email tdak trdaftar pdahal sbelumny pkai email dan pswd itu gliran pke lupa sandi ttap tdak bisa Sdah akun email saya hilang di app ini tlong untuk devoleper lbh mngutamakan customer yg pke ni aplikasi dan segera mmperbaikiny krn smw customer sngat kecewa Dan masukan saya tiap ada perbaikan tlong stiap akun yg sdh trdaftar tdak hlang di hapus ', 'Sejauh ini saya install apk ini dr awal masih bahula smpe skr udh dikasih perubahan banyak saya tetap bisa menjalankan apk ini dgn baik tanpa ada drama ga bisa login dll untuk generasi yg katanya milenial dan terdahulu selama bisa memahami apa yg dimau dimaksudkan perintah KAI ACCESS ya ga bakalan rempong kebanyakan protes mulu Ga bisa login krn memang awal daftar kaga pernah liat emailnya si utk aktivasi akun Baku hantam dlu yg diajuin heran sy sma masyrakat ini Ga pernah mau baca ', 'Kalau mau membelikan tiket untuk orang lain apa harus tetap membeli tiket untuk diri sendiri juga ya Makasih ', 'Aplikasi mudah digunakan sangat membantu', 'Untuk masalah pemesanan dan pembayaran terlalu ribet', 'Aplikasi sangat payah buat pengguna baru bikin mumet emosi bukan memudahkan malah bikin pingin banting hape Jeleeek sangat KAI Access ', 'Top ga pusing pesan tiket tinggl cussss ', 'Min cara merubah edintitas diri caranya gimana Kenapa gak langsung dari aplilasinya aja biar memudahkan customer dalam merubah data identitas diri ', 'Terimakasih telah mempermudah saya dalam melakukan perjalanan dengan menggunakan kereta api jadi saya tak perlu untuk mengantri lagi dalam membeli tiketnya', 'Sekarang malah bisa pesen lewat aplilasi ini min hp redmi Gmn ya ', 'pas di buka layarnya stop diwarna putih aj dari tdi semoga membaik kedepannya ', 'Login pakai email malah email tidak ditemukan d ', 'Udah verifikasi email tp gak masuk ', 'Gagal masuk terus padahal dulu sudah pernah punya akun buat pesan tiket', 'Saya sudah mendaftar tapi tidak dikirimkan ke email untuk verifikasi ', 'Kecewa banget sama kai acces aplikasi nya log out sendiri Padahal pas lagi di butuhkan banget dan sekarang gabisa beli tiket di loket stasiun lagi ', 'Saya kasih tiga bintang dulu entar klo layanannya bagus aku tambahi ', 'Tidak bisa di pakai karna tidak mendapatkan email verifikasinya Payaaahhh d ', 'Maju terus KAI ku ', 'Saya sudah mengisi data diri pesan tiket booking hari tapi ketika akan melakukan pembayaran tidak bisa ya Stuck di pemesanan ', 'Ini gimana ya kak Saya sudah boking tiket dari jauh jauh hari kok malah sekarang hilang uang juga hangus dikasih pertanyaan pertanggung jawaban malah Gaada respon terus gimana ini saya juga butuh tiketnya tolong lebih profesional yahh jangan sembarangan seperti ini jujur saya emosi berat sama kAI access gimana responnya ', 'Harusnya Jika memang setiap penumpang wajib rapid test sebelum penumpang memesan tiket harusnya diberi tahu Saya stuck di stasiun sampai gagal perjalanan ', 'aplikasi yg bikin emosi udahh telfon cs ga bisa verifikasi email ribet amat sih ini kai acces verifikasi email aja ga bisa bikin emosi mendingan ga usah buka aplikasi heran udah di gaji negara gede verifikasi email aja ga becus ', 'Akun aktivasi email tidak masuk kenapa ya ', 'Gimana mau beli tiket di sini wong di buat regristasi aja gak bisa saya sudah pakai akun hp haha', 'PT KAI tolong dong rute ka Walahar jangan di potong soalnya KRL KRL Cikarang tuh jarang banget yang ke stasiun Cikarang apalagi harus pagi pagi banget berangkat mohon KAI', 'Jayalah selalu kereta apiku', 'Aplikasi sngat tidak profesional bermasalah buang anggaran aja', 'Emaik aktivasinya ngga ada jd mau log in ajah susah ini baru sign up apalagi nanti', 'APLIKASI DI PERBAIKI SAYA TAU INI PUNYA BUMN SISTEM PEMILIHAN PEMBAYARAN KIRANG EFISIEN ', 'Ampas ga jelas email pasword dah bener verify sudah beres masih aja ga bisa log in ini aplikasi buat mempermudah atau mempersulit ', 'Tolong di tambah lagi jumlah penumpangnya untuk ka lokalnya', 'Jadwal banyak yang tidak muncul', 'Sangat membantu sekali untuk update pemesanan tiketnya Sukses terus untuk aplikasi KAI Access dan Team Terima kasih', 'Kenapa boarding pass dan ID saya tidak keluar di tiket padahal saya sudah membayar tiket lunas dan mengisi data dengan benar Dan sebelum sebelumnya juga keluar boarding pass dan id saya ', 'di suruh beli tiket pakek aplikasi tp malah gk bsa daftar akun gmn solusinya nie ', 'Salah satu persyaratan naik kereta api masa pndmi kan harus ada surat rapit tes nah kalo surat rapid tes itu di ganti dngan surat keterangan sehat biasa dari puskesmas dokter apakah boleh tmpat saya ada fasilitas rapid tapi harga nya terlalu mahal bagi saya mohon pnjelasan nya terimakasih ', 'Habis diperbaharui gabisa login lagi padahal email sudah benar ', 'Aplikasi nya tolong di benahi saya sama sekali tidak biso booking tiket disini Terima kasih', 'Perlu banyak perbaikan nih Aplikasi nasional yang payah', 'Pemesanan kereta api lokal tidak bisa ', 'Semoga Kereta Api semakin maju dan busa menjadi moda transportasi terbaik di Indonesia bahkan lebih Aamiin', 'Ini kenapa ya kok saya nggak bisa bayar tiket keretanya padahal saldo saya masih banyak', 'Daftar aja susah sekali gak bisa sangat sulit ', 'Setiap update slalu bermasalh akun suruh daftar lagi masukin pasword lama gk bisa masuk ganti pasword persulit ', 'Maaf saya berikan bintang karena saat pembayaran melalui MBanking tidak bisa dan harus ke ATM untuk pembayaran Kurang praktis kalau harus ke ATM untuk pembayaran padahal sudah ada MBanking Tolong untuk kedepannya ditambahkan menu untuk MBanking Khususnya BCA agar pembayaran lebih ringkas dan gak ribet ke ATM Terima Kasih ', 'kok gak bisa di buka wah aplikasi penipuan nyesel di perbarui', 'Saya ingin melakukan aktifasi akun tetapi mengapa ada tulisan akun anda gagal diaktifasi padahal saya baru saja masuk ke link yang di bagikan di GMAIL Tolong di perbaiki jika tidak diperbaiki aplikasi ini hanya meresahkan saja tidak berguna dan saya lebih baik membeli di loket langsung ', 'Hampir jam aktivasi tapi ga bisa masuk ', 'Buat naik kereta biar bisa pulang ke rumah ', 'Sangat membantu ', 'bug daftar akun suruh verifikasi email masuk nya lama banget sekali nya masuk situs kai nya error segera fix bug nya atau sekalian hapus aja aplikasinya', 'Saya dari kemaren gak bisa daftar gagal terus gimana nih cara agar bisa daftar', 'Mohon di bantu kok sulit di buka akhir ini', 'Sangat membantu ', 'Aplikasinyaa sangatt sangatt mengecewakan padahal lagi butuh bangett buat ubh jadwal tiket tpi login susah Tolong perbaikii yups ', 'Verifik si email gak pernah di kirim Jd gk bisa login Gim na donk Bapak Ibu ', 'Gajelas gabisa login harus verifikasi terus tapi ga ada email masuk ', 'Pas dibuka warnanya putih semua Jadi hrus pinjem hp lain buat buka pdahal sizenya termasuk kecil klo di bamdingkan dg app olshop', 'Sangat sangat sangat sangat aneh sekali setelah pembaruan app login gagal dengan ext Nomer anda belum terdaftar sangat aneh Saya jadi harus pinjam akun orang untuk pembelian tiket ', 'Update terakhir masih ada bugs untuk mengubah informasi alamat akun pada kolom pilihan provinsi kabupaten mohon segera diperbaiki ', 'Sangat mengapresiasi untuk aplikasnya namun Semakin versi terbaru semakin rumit semakin ndak smart mungkin karena saya terlalu bodoh dan hp saya terlalu jadul buat pindah penumpang jadi orang aja susah padahl hp sudah ram gb bintang untuk versi sebelumnya ', 'Knpa susah banget masuk nya pesen tiket gak bisa katanya email sama pasword atau no telfon gak valid pdhl kan udah terdaftar sebelumnya jadi pusing sampe bolak balik uninstal mohon bantuannya ini sangat membingungkan', 'Jadi gak Jelas nih Aplikasi tolong di perbaiki ', 'Tolong kai acces diberi tanda yg tujuan blitar sby sebalik beri tanda mana yg lewat malang kediri soal kadang kliru jk pengen lwt malang', 'Lebih praktis mudah cepat Gak perlu antri lagi utk beli tiket ', 'Susah banget aksesnya Verifikasi gk masuk Tambah mempersulit penumpang', 'mudah dalam pemesanan boarding juga reschedule ataupun pembatalam sangat membantu memudahkan ', 'Kecewa sudah tidak bisa bayar pakai apk link aja untuk mempermudah pembayaran', 'Ganti aja aplikasi darah tinggi woi Aplikasi BUMN kok kalah sama aplikasi swasta', 'Aplikasi nya malah mempersulit gak jelas ', 'Tidak bisa login APLIKASI SAMPAH ', 'Sangat membantu ', 'Min gimana ni udah punya akun mau masuk malah email anda salah ngtd ', 'Ini gmna masa mau nayar atm tp ga muncul kode pembayarannya ', 'GADA EMAIL MASUK BUAT VERIFIKASI WOI MAU GANTI NOMER HP PUN GABISA KALI AJA PERUSAHAAN KERETA API GA DIMONOPOLI MUNGKIN BISA SAINGAN AGAR MEMBERI LAYANAN YG TERBAIK KALO CUMAN PERUSAHAAN AJA KYAK SEENAK SNDIRI', 'Parah kek dlu skrng ssah bgt mo pesen lemot bsbknya tambah bagus malah ambyar ', 'Selalu bs pilih kursi Selalu time out padahal jaringan cepat dan stabil', 'Patah sih Sulit sekali untuk login ke aplikasi Minta email verifykasi tetapi email nya tidak dikirim Semoga kedepannya lebih baik lagi lah Jangan mengecewakan customer ', 'Terima kasih telah berpartisipasi melayani jasa perjalanan kamu ', 'Sudah lengkap data penumpang tetapi proses selanjutnya tidak bisa Padahal biasanya mudah', 'Jelek banget di suruh verifikasi email tapi gak ada email masuk buat verifikasi udah berapa kali minta kirim ulang gak ada terus', 'Ada beberapa fitur yang gak bisa dipencet ini gimana ya Dulu kayaknya nggak kayak gini ', 'Tolong saya mau pesen tiket susahnya minta ampun beberapa kali suruh verifikasi akun yg dikirim ke email tp di email gak ada tautan yg masuk coba kirim ulang tetep gak ada gmn ini mohon ditanggapi ', 'Apl yang sangat membantu dlm perjalanan KAI ', 'Aplikasi asu Mau dftr di suruh verifikasi email tapi email tidak pun yang masuk Mau nya apa djnck buat emosi anjing', 'Kenapa ini aplikasi buat pesan tiket bisa ', 'Tolong donk ini knapa dg app ya stiap mau msuk slelu gak bsa Minta verifikasi email trus Tpi gak ada tuh email yg masuk buat verifiksi Sebelum nya gak kyak gni kayaknya Tolong donk prbaiki ini', 'Saya membatalkan tiket dan duitnya belum dikembalikan', 'Mohon di perbaiki untuk pemilihan penumpang Karna saya mau pesan tiket untuk orang tua saya Ndak bisa karna pasti penumpang pertama harus di ganti ganti lagi Buat apa ada daftar penumpang jika penumpang nya tidak bisa di pilih ', 'Tolong untuk fitur ubah jadwal tiket kai lokal di aktifkan ', 'daftar nunggu email buat verifikasi nunggu jam gak ada email masuk payah ', 'Maaf bintang dulu Mohon tanggapannya untuk poin cara dapatinnya bagaimana Dan penggunaannya buat apa saja Kok ada tulisan poin didapat tgl kadalwarsanya tgl lah percuma donk dapat poin tp GK bisa digunakan ', 'aplikasi nya down parah bahkan untuk mengecek jadwalpun gk bisaaa ', 'Oy min ko pake bayar banking BCA gabisa si heran aneh aneh aja', 'Lola tdk suport pd pemilihan jumlah penumpak tdk konek ', 'Woyyy gimana ngerubah jadwal keberangkatan Padahal udah beli tiket tpi gk bisa di rubah tanggal keberangkatan', 'Selama pakai aplikasi ini gak ada masalah smpt gak bs login pake menu lupa password jg gak bs trus kirim email ke cs nya Alhamdulillah gak lama uda bisa lagi lebih enak lagi skrg utk potongan lansia dll sudah bisa diakomodir jd gak usah ribet beliin tiket utk orang tua dan harus fotokopi buat dapet potongan Sarannya utk fitur pembatalan dan ubah jadwal masih terbatas pada nama pemesan harus ikut sebagai penumpang ', 'Tolong tambahan fitur ganti jadwal yang lokal trus klau bisa klau tiket kita hangus kasi discok untuk pembelian ke admin soalnya kadang bkkau qu bli tiket trus gk qu pkek krena batal pergi plis admin discon yah buat yag KA lokal nya', 'tolong dong min masak iya untuk mengakses KAI harus memakai minimal OS marshmallow semua pengguna prameks punya hp model terbaru min jadi tolonglah buat peraturan yg lebih bijak thanks ', 'Dari smua ulasan dibawah hampir smua mengeluh soal verifikasi email no tlpon dan salah satu nya saya juga tapi kok yang di balas dari admin hanya soal syarat rapid tes ini tolong di perjelas buat admin ', 'Setelah dibantu dengan cskai nya akhirnya bisa login terima kasih ', 'Dikarenakan ada KRL sekarang jadi tidak bisa pesan tiket kreta Prameks lagi lewat aplikasi ini jadi sepertinya mau saya delete saja Aplikasinya jarang update ', 'Pihak KAI ada kontak cs ga Masak saya daftar udah seminggu lebih bolak balik kirim aktivasi email ga ke kirim email aktivasi nya Trus saya pesen kereta gmn nih ', 'Tolong lah saya login ada tulisan aduh permintaan anda time out padahal sudah update android system webviewnya', 'Knp akun saya malah logout Mau login belum terdaftar saat daftar malah nomor sudah terdaftar Maunya apa nih aplikasi ', 'Pakai KAI Askes itu enak cuma bagi yg gaptek kasih an mau beli tiket nya susah tunggu jam an Harus nya buat yg seperti saya gaptek apa hp jadul kasih an tolong KAI merubah sistem ini Klou bagi yg gaptek beli tiket ya tolong langsung di layan in gak merugi kan kok Krn semua pakai uang Terima kasih mohon di renung kan ddan di pelajar in tidak semua orang pintar Krn Sa ad kai saya error pegawai di stasiun kreta di Kepanjen tidak bisa bantu saya Krn dia sendiri gak ngerti ', 'App kai access sering berhenti sendiri tlng diperbaiki dong ', 'kenapa tidak ada email untuk verifikasi ', 'Perjalanan menjadi mudah ', 'Seharusnya bisa membantu dengan baik Waktu untuk membayar dan memilih tempat duduk sangatlah terbatas Akun juga mendadak hilang Tolong untuk aplikasi ini diperbaiki Terimakasih ', 'Karna tdk menerima email verifikasi nya kesel banget', 'Setelah diupdate malah gak bisa booking tiket alasannya waktu pemesanan habis padahal aplikasinya ngadat gak mau jalan ', 'Tiket KA lokal tidak bisa di cancel atau di reschedul Kenapa seperti itu ', 'aplikasi paling parah bikin malu dunia IT ', 'Kok sy sudah bayar tapi tiketnya ga terbit yak ', 'KAI Access sangat membantu dan mempermudah saya dalam hal transportasi yang murah cepat dan tepat waktu terimakasih KAI Access ', 'Bisa di pasti kan kedatangan nya di tempat tujuan dan pelayanan pihak KAI sangat sopan dan ramah ', 'Sangat mudah dan lengkap untuk di gunakan ', 'Sangat membantu ', 'Kenapa metode pembayaran ngak bisa di klik ', 'Sebener nya bagus sih tapi kenapa hanya akun no hp aja jadinya kalau mau ganti akun atau nomer telfon jadi nya harus ganti semua', 'Saya sebelum saya perbaui apikasi lancar jaya dan muncul notifikasi prbarui aplikasi Tetapi setelah saya perbarui ga bisa buat pesen KA lokal ini gimana ya padahal koneksi saya lancar dan bagus Menghambat sekali jika seperti ini Mohon segera dibenahi ', 'Terima ksh KAI trlah melayani kami dgn baik Smg semakin hari akan bertambah baik pelayanan dan fasilitasnya aamiin YRA Sukses terus KAI ', 'Setiap update akun yang biasa dipakai SELALU TIDAK VALID BERULANG TERUS Segera perbaiki ', 'Email verifikasi ke outlook ga masuk masuk Sampai jengkel klik kirim ulang', 'Maaf ini baru instal kok gabisa di pake layar nya cuma putih mohon perbaikan dan penjelasannya min', 'Kok aneh tambahkan tiket malah id gak bisa Padahal sama id penumpangnya', 'Aduh Permintaan Anda telah timeout Kok kek gitu mulu siiii', 'Kenapa saya gak bisa memverifikasi setelah login ya Udah puluhan kali', 'Sangat gak guna Tidak bisa ubah jadwal keberangkatan pembatalan ', 'saya udah memverifikasi akun nya kok gak bisa kebuka ya', 'Sudah donwload aplikasinya mau daftar akun masuk gk bisa aplikasi macam apa ini kata Nya mau perubahan yg lebih baik malah mengecewakan', 'Email verifikasi di tunggu tunggu tidak ada terus Tapi kalau email lupa password ada Bagaimana ini tolong tindak lanjuti Sudah pake berpa nmr dan brpa email masih tidak ada email verifikasi Aneh', 'Mengubah nama kok nggak bisa id KTP Uda pas nama jg Uda pas to selalu gagal something where wrong', 'Masak iyha akun saya belum diverifikasi dan belum di aktifasi tolong aplikasinya dipermudahkan dan jangan di perumit kayak gini kasihan customer lainnya', 'Setiap baru buka aplikasi udah time out Ini maksudnya apa yah Tolong aplikasi ini maintenance dengan baik jika tidak lebih baik dihapus saja', 'mesen parameks kudu pembayarannya pake link aja lahh apa lah itu dompet online emang setiap orang punya mesen di loket kudu hari beli langsung ke stasiun padahal jam sebelum jadwal keretanya selalu kehabisan terus ada aplikasi tuhh harusnya ka lokal jga bisa pembayaran bank ato indomaret alfamart ', 'Krnapa mau login verifikasi dan tidak ada verifikasi yang masuk sama sekali tolonglah saya butuh', 'Sangat mudah aplikasinya mantap ', 'Setelah diupdte knpa ga bisa dibuat loginn pdhall dlu juga ga kyk ginii Harussnyaa setelah diupdte apknya makin memuaskan ini malah kyak ginii Klo gini manaa bisaa sayaa pesan tiket ', 'Kenapa setelah di update pembayaran hanya lewat debit mandiri Sebelumnya kan link aja', 'Mayan lah cuma sayang kalo ketinggalan kereta krd ga bisa masuk ke jam selanjutnya jadi harus beli lagi tiket banyak mubazir', 'Saya belum dapat verifikasi akun mohon untuk solusinya Terima kasih ', 'Aplikasi cacat ngga jelas ngga membantu Refund Reschedule via Aplikasi ngga bisa Call Center ngga bisa dihubungi ', 'Terimakasih atas layanannya Saya beri bintang karena pihak KAI ACCESS sangat membantu dalam menangani masalah akun', 'Tolong bantuannya min kenapa ya kalau login terus verifikasi selalu gagal', 'Knp buat pesan tiket slalu isi kelengkapan profil Udah di isi kembali lagi isi formulir kagak bisa pesan', 'Terima kasih telah mjd alat saya utk pembayaran kereta api ', 'Mau daftar aja susaaah verifikasi email gagal terus Trus piyeee ', 'Gk guna ni aplikasi buang paket gue taii ', 'Gak pernah bermasalah dengan apk ini Saya SANGAT AMAT TERBANTU Makasih KAI Access sudah mempermudah saya dalam pemesanan tiket kereta ', 'tidak bisa registrasi ', 'Tingkatkan menjadi lebih baik utk pelayanan sangat memuaskan tapi didlm kereta harus lebih ditingkatkan dan peduli dgn penumpang ', 'Aplikasi mudah digunakan ', 'Verifikasi lambat pengaplikasiannya kurang nyaman metode pembayaran terbatas', 'aplikasi habis pembaruan malah cacat malah bisa login email tidak ditemukan ', 'Kenapa tidak ada kode Verifikasi masuk ke email saya Padahal saya sangat menantikan ya karena harus pesan tiket kereta online ', 'Untuk tiket kereta lokal go show harap tetap bisa walau kurang dari setengah jam keberangkatan', 'Kenapa saya tidak bisa login ke akun saya ya Saya sudah mengirim email ke cs KAI namun belum ada balasan', 'Semua baik yg sy temui', 'sudah jam daftar tapi email verifikasi belum masuk mau pesan tiket ka lokal di loket ditolak karena loket hanya melayani goshow saja ', 'mungkin bisa ditingkatkan agar pembayaran via link aja tidak harus nomor yg sama dg yg didaftarkan di kai access', 'Daftar kok susah ']\n"
          ]
        }
      ]
    },
    {
      "cell_type": "code",
      "metadata": {
        "id": "pSuaDCHHHObc"
      },
      "source": [
        "#memisahkan teks menjadi potongan-potongan berupa token, bisa berupa potongan huruf, kata, atau kalimat\n",
        "tokenizer = Tokenizer(num_words=5000)\n",
        "tokenizer.fit_on_texts(X_train)\n",
        "\n",
        "X_train = tokenizer.texts_to_sequences(X_train)\n",
        "X_test = tokenizer.texts_to_sequences(X_test)"
      ],
      "execution_count": 284,
      "outputs": []
    },
    {
      "cell_type": "code",
      "metadata": {
        "id": "E28fll66HOeU"
      },
      "source": [
        "#adding 1 because of reserved 0 index\n",
        "vocab_size = len(tokenizer.word_index) + 1\n",
        "maxlen = 100\n",
        "X_train = pad_sequences(X_train, padding='post', maxlen=maxlen)\n",
        "X_test = pad_sequences(X_test, padding='post', maxlen=maxlen)\n"
      ],
      "execution_count": 285,
      "outputs": []
    },
    {
      "cell_type": "code",
      "metadata": {
        "id": "LjMi5cuGHOh1"
      },
      "source": [
        "from numpy import array\n",
        "from numpy import  asarray\n",
        "from numpy import zeros\n",
        "\n",
        "embeddings_dictionary = dict()\n",
        "glove_file =open('/content/drive/MyDrive/glove.6B.100d.txt', encoding=\"utf8\")\n",
        "for line in glove_file:\n",
        "  records =line.split()\n",
        "  word = records[0]\n",
        "  vector_dimensions = asarray(records[1:], dtype='float32')\n",
        "  embeddings_dictionary[word] = vector_dimensions\n",
        "glove_file.close()"
      ],
      "execution_count": 286,
      "outputs": []
    },
    {
      "cell_type": "code",
      "metadata": {
        "id": "nMMx8v4VM3U0"
      },
      "source": [
        "embedding_matrix = zeros((vocab_size, 100))\n",
        "for word, index in tokenizer.word_index.items():\n",
        "  embedding_vector = embeddings_dictionary.get(word)\n",
        "  if embedding_vector is not None:\n",
        "    embedding_matrix[index] = embedding_vector"
      ],
      "execution_count": 287,
      "outputs": []
    },
    {
      "cell_type": "code",
      "metadata": {
        "id": "B4F8pNmEP9hs"
      },
      "source": [
        "#Dekrasi untuk Model CNN\n",
        "from keras.models import Model\n",
        "from keras.layers import Conv1D, Dense, MaxPool1D, Flatten, Input\n",
        "from tensorflow.keras.optimizers import Adam\n",
        "from tensorflow.keras.utils import plot_model\n",
        "\n",
        "import numpy as np\n",
        "model = Sequential()"
      ],
      "execution_count": 288,
      "outputs": []
    },
    {
      "cell_type": "code",
      "metadata": {
        "id": "lQ6BziBrP9k9"
      },
      "source": [
        "#membangun model CNN\n",
        "embedding_layer = Embedding(vocab_size, 100, weights=[embedding_matrix], input_length=maxlen , trainable=False)\n",
        "model.add(embedding_layer)\n",
        "model.add(Conv1D(128, 5, activation='relu'))\n",
        "model.add(GlobalMaxPooling1D())\n",
        "model.add(Dense(1, activation='sigmoid'))\n",
        "model.compile(optimizer='adam', loss='binary_crossentropy', metrics=['acc'])"
      ],
      "execution_count": 289,
      "outputs": []
    },
    {
      "cell_type": "code",
      "metadata": {
        "id": "JY4WehHJ78ns"
      },
      "source": [
        "import os\n",
        "os.mkdir(\"/content/simpan_model\")"
      ],
      "execution_count": 290,
      "outputs": []
    },
    {
      "cell_type": "code",
      "metadata": {
        "colab": {
          "base_uri": "https://localhost:8080/",
          "height": 775
        },
        "id": "ges7Vym7jox5",
        "outputId": "1d69b6e4-8fcc-439b-cc96-5e7995b8f22d"
      },
      "source": [
        "import cv2\n",
        "import random\n",
        "import numpy as np\n",
        "\n",
        "#Menampilkan hasil pembuatan MOdel\n",
        "model.summary()       \n",
        "plot_model(model, to_file='model.png', show_shapes=True, show_layer_names=False, rankdir='TB', expand_nested=False, dpi=80)"
      ],
      "execution_count": 291,
      "outputs": [
        {
          "output_type": "stream",
          "name": "stdout",
          "text": [
            "Model: \"sequential_16\"\n",
            "_________________________________________________________________\n",
            " Layer (type)                Output Shape              Param #   \n",
            "=================================================================\n",
            " embedding_23 (Embedding)    (None, 100, 100)          231400    \n",
            "                                                                 \n",
            " conv1d_23 (Conv1D)          (None, 96, 128)           64128     \n",
            "                                                                 \n",
            " global_max_pooling1d_16 (Gl  (None, 128)              0         \n",
            " obalMaxPooling1D)                                               \n",
            "                                                                 \n",
            " dense_16 (Dense)            (None, 1)                 129       \n",
            "                                                                 \n",
            "=================================================================\n",
            "Total params: 295,657\n",
            "Trainable params: 64,257\n",
            "Non-trainable params: 231,400\n",
            "_________________________________________________________________\n"
          ]
        },
        {
          "output_type": "execute_result",
          "data": {
            "image/png": "[encoded data removed]",
            "text/plain": [
              "<IPython.core.display.Image object>"
            ]
          },
          "metadata": {},
          "execution_count": 291
        }
      ]
    },
    {
      "cell_type": "code",
      "metadata": {
        "id": "x2BDm-5kUK-c",
        "scrolled": false,
        "colab": {
          "base_uri": "https://localhost:8080/"
        },
        "outputId": "eb268d8f-84fc-4060-d2ae-5721fb40b2ae"
      },
      "source": [
        "#melakukan Training\n",
        "history = model.fit(X_train, y_train, validation_data=(X_test,y_test), batch_size=128, epochs=10, verbose=1, validation_split=0.1)\n",
        "model.save(\"mymodel.h5\")"
      ],
      "execution_count": 292,
      "outputs": [
        {
          "output_type": "stream",
          "name": "stdout",
          "text": [
            "Epoch 1/10\n",
            "6/6 [==============================] - 1s 121ms/step - loss: 0.4711 - acc: 0.7524 - val_loss: 0.0940 - val_acc: 1.0000\n",
            "Epoch 2/10\n",
            "6/6 [==============================] - 1s 91ms/step - loss: 0.0855 - acc: 0.9986 - val_loss: 0.0274 - val_acc: 1.0000\n",
            "Epoch 3/10\n",
            "6/6 [==============================] - 1s 88ms/step - loss: 0.0426 - acc: 0.9986 - val_loss: 0.0147 - val_acc: 1.0000\n",
            "Epoch 4/10\n",
            "6/6 [==============================] - 1s 92ms/step - loss: 0.0316 - acc: 0.9986 - val_loss: 0.0102 - val_acc: 1.0000\n",
            "Epoch 5/10\n",
            "6/6 [==============================] - 1s 90ms/step - loss: 0.0263 - acc: 1.0000 - val_loss: 0.0080 - val_acc: 1.0000\n",
            "Epoch 6/10\n",
            "6/6 [==============================] - 1s 90ms/step - loss: 0.0235 - acc: 1.0000 - val_loss: 0.0067 - val_acc: 1.0000\n",
            "Epoch 7/10\n",
            "6/6 [==============================] - 1s 93ms/step - loss: 0.0218 - acc: 1.0000 - val_loss: 0.0059 - val_acc: 1.0000\n",
            "Epoch 8/10\n",
            "6/6 [==============================] - 1s 91ms/step - loss: 0.0205 - acc: 1.0000 - val_loss: 0.0053 - val_acc: 1.0000\n",
            "Epoch 9/10\n",
            "6/6 [==============================] - 1s 92ms/step - loss: 0.0196 - acc: 1.0000 - val_loss: 0.0049 - val_acc: 1.0000\n",
            "Epoch 10/10\n",
            "6/6 [==============================] - 1s 91ms/step - loss: 0.0188 - acc: 1.0000 - val_loss: 0.0046 - val_acc: 1.0000\n"
          ]
        }
      ]
    },
    {
      "cell_type": "code",
      "metadata": {
        "colab": {
          "base_uri": "https://localhost:8080/"
        },
        "id": "zP0aPxkBjoyG",
        "outputId": "a7e0606c-ad5f-48a6-8042-475d5bf07dd8"
      },
      "source": [
        "#testing model\n",
        "score = model.evaluate(X_train, y_train)\n",
        "print('Test Accuracy: %f' % (acc*100))"
      ],
      "execution_count": 293,
      "outputs": [
        {
          "output_type": "stream",
          "name": "stdout",
          "text": [
            "26/26 [==============================] - 0s 11ms/step - loss: 0.0170 - acc: 1.0000\n",
            "Test Accuracy: 100.000000\n"
          ]
        }
      ]
    },
    {
      "cell_type": "code",
      "metadata": {
        "colab": {
          "base_uri": "https://localhost:8080/"
        },
        "id": "7lEvpw_oxPUZ",
        "outputId": "e2ce4d13-6a10-489a-ca85-6cccd35b8d4d"
      },
      "source": [
        "# evaluate\n",
        "score = model.evaluate(X_test, y_test, verbose=1)\n",
        "print('Test Accuracy: %f' % (acc*100))"
      ],
      "execution_count": 294,
      "outputs": [
        {
          "output_type": "stream",
          "name": "stdout",
          "text": [
            "7/7 [==============================] - 0s 11ms/step - loss: 0.0215 - acc: 1.0000\n",
            "Test Accuracy: 100.000000\n"
          ]
        }
      ]
    },
    {
      "cell_type": "code",
      "metadata": {
        "colab": {
          "base_uri": "https://localhost:8080/"
        },
        "id": "aKFO_fyaNQvW",
        "outputId": "0ba3ab2e-73b5-482f-9032-5cbc7eecd403"
      },
      "source": [
        "# Evaluating the model's accuracy\n",
        "cnn_score = model.evaluate(X_test, y_test, verbose=1)\n",
        "print(\"\\nTEST SCORES OF MODEL\")\n",
        "print(\"Test loss:\", cnn_score[0])\n",
        "print(\"Test Accuracy:\", cnn_score[1])"
      ],
      "execution_count": 295,
      "outputs": [
        {
          "output_type": "stream",
          "name": "stdout",
          "text": [
            "7/7 [==============================] - 0s 12ms/step - loss: 0.0215 - acc: 1.0000\n",
            "\n",
            "TEST SCORES OF MODEL\n",
            "Test loss: 0.021503768861293793\n",
            "Test Accuracy: 1.0\n"
          ]
        }
      ]
    },
    {
      "cell_type": "code",
      "metadata": {
        "colab": {
          "base_uri": "https://localhost:8080/"
        },
        "id": "KDSq1QrwRM25",
        "outputId": "6b2b0eff-5564-4406-f3fe-21492950e2c3"
      },
      "source": [
        "# Final Results\n",
        "print(\"Convolution Neural Network\")\n",
        "print(\"Traning Accuracy : {}\" .format(history.history['acc']))\n",
        "print(\"Validation Accuracy : {}\" .format(history.history['val_acc']))\n",
        "print(\"\\nTraning Loss : {}\" .format(history.history['loss']))\n",
        "print(\"Validation Loss : {}\" .format(history.history['val_loss']))"
      ],
      "execution_count": 296,
      "outputs": [
        {
          "output_type": "stream",
          "name": "stdout",
          "text": [
            "Convolution Neural Network\n",
            "Traning Accuracy : [0.7524204850196838, 0.9986168742179871, 0.9986168742179871, 0.9986168742179871, 1.0, 1.0, 1.0, 1.0, 1.0, 1.0]\n",
            "Validation Accuracy : [1.0, 1.0, 1.0, 1.0, 1.0, 1.0, 1.0, 1.0, 1.0, 1.0]\n",
            "\n",
            "Traning Loss : [0.4710971415042877, 0.08546290546655655, 0.04259398207068443, 0.031587351113557816, 0.026286086067557335, 0.02346673049032688, 0.021818673238158226, 0.02049940451979637, 0.019576717168092728, 0.01878833957016468]\n",
            "Validation Loss : [0.09397783130407333, 0.027413859963417053, 0.014734026975929737, 0.010152998380362988, 0.0079810107126832, 0.00673753023147583, 0.005912475287914276, 0.005349074490368366, 0.004923721309751272, 0.0045715318992733955]\n"
          ]
        }
      ]
    },
    {
      "cell_type": "code",
      "metadata": {
        "colab": {
          "base_uri": "https://localhost:8080/",
          "height": 573
        },
        "id": "6_aMaabijoyK",
        "outputId": "a632cae0-e1d9-4bc6-cca7-afaf30ccbd62"
      },
      "source": [
        "#visualisasi data hasil \n",
        "\n",
        "import matplotlib.pyplot as plt\n",
        "plt.plot(history.history['acc'])\n",
        "\n",
        "plt.plot(history.history['val_acc'])\n",
        "\n",
        "plt.title('model accuracy')\n",
        "plt.ylabel('accuracy')\n",
        "plt.xlabel('epoch')\n",
        "plt.legend(['train', 'test'], loc='upper left')\n",
        "plt.show()\n",
        "\n",
        "plt.plot(history.history['loss'])\n",
        "\n",
        "plt.plot(history.history['val_loss'])\n",
        "\n",
        "plt.title('model loss')\n",
        "plt.ylabel('loss')\n",
        "plt.xlabel('epoch')\n",
        "plt.legend(['train', 'test'], loc='upper left')\n",
        "plt.show()"
      ],
      "execution_count": 297,
      "outputs": [
        {
          "output_type": "display_data",
          "data": {
            "image/png": "[encoded data removed]",
            "text/plain": [
              "<Figure size 432x288 with 1 Axes>"
            ]
          },
          "metadata": {
            "needs_background": "light"
          }
        },
        {
          "output_type": "display_data",
          "data": {
            "image/png": "[encoded data removed]",
            "text/plain": [
              "<Figure size 432x288 with 1 Axes>"
            ]
          },
          "metadata": {
            "needs_background": "light"
          }
        }
      ]
    },
    {
      "cell_type": "code",
      "metadata": {
        "id": "7f_RL1DdjoyT",
        "colab": {
          "base_uri": "https://localhost:8080/"
        },
        "outputId": "a5c35d2f-82f2-4c2d-feed-efc024e1368f"
      },
      "source": [
        "y_pred=model.predict(X_test)\n",
        "y_pred"
      ],
      "execution_count": 308,
      "outputs": [
        {
          "output_type": "execute_result",
          "data": {
            "text/plain": [
              "array([[9.24924016e-03],\n",
              "       [8.20642890e-05],\n",
              "       [1.09088421e-03],\n",
              "       [2.02149153e-04],\n",
              "       [4.99924863e-05],\n",
              "       [2.86608934e-04],\n",
              "       [4.82948963e-05],\n",
              "       [4.12441790e-02],\n",
              "       [8.81820917e-04],\n",
              "       [2.95370817e-04],\n",
              "       [3.93574536e-02],\n",
              "       [1.01770143e-04],\n",
              "       [1.15653872e-03],\n",
              "       [1.57668655e-05],\n",
              "       [8.01017880e-03],\n",
              "       [4.95305657e-03],\n",
              "       [1.08849704e-02],\n",
              "       [7.27266073e-02],\n",
              "       [2.54000352e-05],\n",
              "       [1.71452761e-04],\n",
              "       [4.51905876e-01],\n",
              "       [7.49260187e-04],\n",
              "       [2.25592448e-05],\n",
              "       [3.60413014e-06],\n",
              "       [2.29524225e-01],\n",
              "       [7.02738762e-04],\n",
              "       [3.66267562e-03],\n",
              "       [5.59100117e-05],\n",
              "       [1.49101019e-04],\n",
              "       [2.27093697e-04],\n",
              "       [8.18461180e-04],\n",
              "       [1.30057335e-03],\n",
              "       [4.84538687e-05],\n",
              "       [1.02467835e-02],\n",
              "       [4.51905876e-01],\n",
              "       [2.66002298e-05],\n",
              "       [1.92776024e-02],\n",
              "       [2.75794991e-05],\n",
              "       [1.59328483e-05],\n",
              "       [2.32994556e-04],\n",
              "       [2.74681449e-02],\n",
              "       [1.08232200e-02],\n",
              "       [1.56879425e-04],\n",
              "       [7.79983401e-02],\n",
              "       [9.14007425e-04],\n",
              "       [2.73668829e-05],\n",
              "       [1.26838684e-04],\n",
              "       [5.82922767e-05],\n",
              "       [5.29259443e-04],\n",
              "       [7.33792782e-04],\n",
              "       [1.31224394e-02],\n",
              "       [6.94946575e-05],\n",
              "       [3.11813201e-05],\n",
              "       [3.87638807e-04],\n",
              "       [1.45524740e-04],\n",
              "       [3.14083695e-03],\n",
              "       [7.15905117e-05],\n",
              "       [6.79878285e-05],\n",
              "       [4.81769443e-03],\n",
              "       [3.30082912e-06],\n",
              "       [2.08854675e-04],\n",
              "       [8.96077381e-06],\n",
              "       [3.90408422e-06],\n",
              "       [3.86513770e-02],\n",
              "       [6.44269586e-03],\n",
              "       [2.80380249e-04],\n",
              "       [1.01105165e-04],\n",
              "       [6.66599226e-05],\n",
              "       [4.31507826e-04],\n",
              "       [4.00057435e-03],\n",
              "       [1.46806240e-04],\n",
              "       [3.83929801e-05],\n",
              "       [2.05212831e-03],\n",
              "       [3.67151079e-05],\n",
              "       [6.12914562e-04],\n",
              "       [3.81599457e-05],\n",
              "       [5.70473075e-03],\n",
              "       [9.69588757e-04],\n",
              "       [2.08467245e-04],\n",
              "       [2.14129686e-04],\n",
              "       [3.35037708e-03],\n",
              "       [1.57061219e-03],\n",
              "       [7.21442993e-05],\n",
              "       [7.34023124e-05],\n",
              "       [2.49386903e-06],\n",
              "       [2.70813704e-04],\n",
              "       [3.11583281e-04],\n",
              "       [5.73936701e-02],\n",
              "       [9.98858086e-05],\n",
              "       [9.64760780e-04],\n",
              "       [3.09872376e-05],\n",
              "       [5.73936701e-02],\n",
              "       [2.91499496e-03],\n",
              "       [8.40638040e-06],\n",
              "       [1.17119402e-04],\n",
              "       [1.68344595e-05],\n",
              "       [9.89479377e-05],\n",
              "       [4.40612435e-03],\n",
              "       [1.84923410e-04],\n",
              "       [5.06043434e-04],\n",
              "       [5.93215227e-04],\n",
              "       [9.40263271e-04],\n",
              "       [3.49637866e-03],\n",
              "       [8.65492225e-03],\n",
              "       [6.35623932e-03],\n",
              "       [4.91082668e-04],\n",
              "       [6.10926747e-03],\n",
              "       [1.52366757e-02],\n",
              "       [4.56163287e-03],\n",
              "       [5.73936701e-02],\n",
              "       [2.63214111e-04],\n",
              "       [9.44316416e-05],\n",
              "       [2.61151326e-05],\n",
              "       [2.93689966e-03],\n",
              "       [1.27381086e-02],\n",
              "       [1.30676499e-05],\n",
              "       [5.06314635e-03],\n",
              "       [7.45171309e-03],\n",
              "       [9.91916022e-05],\n",
              "       [1.18925534e-04],\n",
              "       [1.93932410e-05],\n",
              "       [3.83138657e-04],\n",
              "       [3.86998772e-06],\n",
              "       [1.08120441e-02],\n",
              "       [4.84951761e-06],\n",
              "       [8.21304321e-03],\n",
              "       [2.78989828e-05],\n",
              "       [5.23895025e-04],\n",
              "       [6.13600016e-04],\n",
              "       [5.68916730e-05],\n",
              "       [9.84668732e-04],\n",
              "       [6.64293766e-04],\n",
              "       [1.71399415e-02],\n",
              "       [1.20595410e-04],\n",
              "       [3.05963331e-05],\n",
              "       [3.38185746e-05],\n",
              "       [9.12401738e-05],\n",
              "       [3.45538774e-06],\n",
              "       [3.84241343e-04],\n",
              "       [1.68859959e-04],\n",
              "       [2.74729991e-05],\n",
              "       [4.47034836e-04],\n",
              "       [5.40941954e-04],\n",
              "       [5.56774603e-06],\n",
              "       [4.95755672e-03],\n",
              "       [5.31941652e-04],\n",
              "       [4.51905876e-01],\n",
              "       [2.22504139e-04],\n",
              "       [2.54109502e-03],\n",
              "       [6.72876835e-04],\n",
              "       [6.44895845e-05],\n",
              "       [4.19488549e-03],\n",
              "       [3.60190868e-04],\n",
              "       [9.61019396e-05],\n",
              "       [9.40290010e-06],\n",
              "       [1.41799450e-04],\n",
              "       [5.73936701e-02],\n",
              "       [4.71681356e-04],\n",
              "       [1.27911568e-04],\n",
              "       [9.39742749e-05],\n",
              "       [2.18242407e-04],\n",
              "       [5.76683879e-03],\n",
              "       [2.37584114e-04],\n",
              "       [1.83971188e-05],\n",
              "       [6.08623028e-04],\n",
              "       [1.52367353e-03],\n",
              "       [2.04771757e-04],\n",
              "       [4.46170568e-04],\n",
              "       [6.99521333e-05],\n",
              "       [5.57991625e-05],\n",
              "       [1.84698638e-05],\n",
              "       [1.16104835e-04],\n",
              "       [3.34512697e-05],\n",
              "       [5.99264240e-05],\n",
              "       [6.22512243e-06],\n",
              "       [7.53243803e-05],\n",
              "       [5.73936701e-02],\n",
              "       [1.13654137e-03],\n",
              "       [3.92675400e-04],\n",
              "       [2.62777703e-05],\n",
              "       [5.62977791e-03],\n",
              "       [3.19444537e-02],\n",
              "       [2.99538260e-05],\n",
              "       [6.93292968e-05],\n",
              "       [6.33376112e-05],\n",
              "       [5.72144985e-04],\n",
              "       [1.22001767e-03],\n",
              "       [4.97370958e-04],\n",
              "       [8.88357026e-05],\n",
              "       [3.76148224e-02],\n",
              "       [1.32733583e-03],\n",
              "       [4.51905876e-01],\n",
              "       [4.51905876e-01],\n",
              "       [4.22000885e-04],\n",
              "       [2.59139033e-05],\n",
              "       [1.63346529e-03],\n",
              "       [7.85510565e-06],\n",
              "       [5.29202819e-03],\n",
              "       [2.66634961e-05],\n",
              "       [4.48441388e-05],\n",
              "       [7.24578202e-02]], dtype=float32)"
            ]
          },
          "metadata": {},
          "execution_count": 308
        }
      ]
    },
    {
      "cell_type": "code",
      "metadata": {
        "colab": {
          "base_uri": "https://localhost:8080/"
        },
        "id": "a5cnXxiOBxw2",
        "outputId": "14c67ce7-ed18-4291-e3eb-8d6e52cf7b89"
      },
      "source": [
        "y_pred=np.argmax(X_test,axis=1)\n",
        "y_pred"
      ],
      "execution_count": 309,
      "outputs": [
        {
          "output_type": "execute_result",
          "data": {
            "text/plain": [
              "array([ 4,  2,  2, 12, 16, 10,  8,  1,  5, 37,  3, 10,  0,  0,  5,  1,  0,\n",
              "        3, 10,  5,  0,  3, 20, 17,  2,  6,  2, 30,  9,  0,  0,  4, 17, 12,\n",
              "        1, 14,  2, 19, 10, 16,  2,  1, 12,  2,  9, 16,  5,  6,  7,  3,  7,\n",
              "        5,  9,  2,  9,  3, 17, 34,  2, 31,  1,  5, 10,  0,  5,  0, 11,  7,\n",
              "        5,  1, 14, 13, 14,  2,  0, 10,  2,  0, 14, 10,  7, 15, 30,  6,  6,\n",
              "        0,  7,  1,  0,  2,  2,  1,  1, 11,  0,  5,  7,  4, 14, 28,  2,  4,\n",
              "        6,  6,  3, 10,  3,  3,  4,  1,  2,  4, 13,  3,  8, 15,  6,  6, 14,\n",
              "        6, 22,  4,  1,  3, 26,  1, 20,  3, 11,  4,  6,  5,  2,  0, 59, 12,\n",
              "       23,  3,  1, 14,  9, 14, 15, 77,  5,  0,  1, 11,  2, 14,  6,  4,  5,\n",
              "        8, 14,  6,  1,  3, 10, 34, 12,  5,  7, 13, 11,  6,  8,  2,  4,  9,\n",
              "       21, 16, 16, 20, 35, 11,  3, 17,  7,  4,  7,  1, 12,  1, 13,  4,  8,\n",
              "        5, 10,  2,  0,  2,  6,  4,  3,  5, 18,  0, 18, 15,  2])"
            ]
          },
          "metadata": {},
          "execution_count": 309
        }
      ]
    },
    {
      "cell_type": "code",
      "metadata": {
        "id": "SHVcwF-i1BJH"
      },
      "source": [
        "from sklearn.metrics import confusion_matrix,classification_report\n",
        "import seaborn as sns"
      ],
      "execution_count": 300,
      "outputs": []
    },
    {
      "cell_type": "code",
      "metadata": {
        "colab": {
          "base_uri": "https://localhost:8080/",
          "height": 405
        },
        "id": "DQtEaX-1CG0X",
        "outputId": "9ab7e562-2c57-453c-8634-cd45c8c108ca"
      },
      "source": [
        "cm=confusion_matrix(y_test,y_pred)\n",
        "print(\"Accuracy : {:.3f}%\".format(acc*100))\n",
        "print(\"Loss     : {:.3f}\".format(loss))\n",
        "\n",
        "print(\"\\nClassification Report :\\n\")\n",
        "ax=sns.heatmap(cm,annot=True,cmap='Blues',fmt=' ')\n",
        "ax.set_title('Confusion Matrix')\n",
        "ax.set_xlabel('y_test')\n",
        "ax.set_ylabel('y_pred')"
      ],
      "execution_count": 301,
      "outputs": [
        {
          "output_type": "stream",
          "name": "stdout",
          "text": [
            "Accuracy : 100.000%\n",
            "Loss     : 0.010\n",
            "\n",
            "Classification Report :\n",
            "\n"
          ]
        },
        {
          "output_type": "execute_result",
          "data": {
            "text/plain": [
              "Text(33.0, 0.5, 'y_pred')"
            ]
          },
          "metadata": {},
          "execution_count": 301
        },
        {
          "output_type": "display_data",
          "data": {
            "image/png": "[encoded data removed]",
            "text/plain": [
              "<Figure size 432x288 with 2 Axes>"
            ]
          },
          "metadata": {
            "needs_background": "light"
          }
        }
      ]
    },
    {
      "cell_type": "code",
      "metadata": {
        "colab": {
          "base_uri": "https://localhost:8080/"
        },
        "id": "kLsP51qWDBIN",
        "outputId": "4d5d68b9-7b14-458f-bc85-eeffb0d4b34e"
      },
      "source": [
        "print(classification_report(y_test,y_pred))"
      ],
      "execution_count": 302,
      "outputs": [
        {
          "output_type": "stream",
          "name": "stdout",
          "text": [
            "              precision    recall  f1-score   support\n",
            "\n",
            "           0       1.00      0.08      0.16       201\n",
            "           1       0.00      0.00      0.00         0\n",
            "           2       0.00      0.00      0.00         0\n",
            "           3       0.00      0.00      0.00         0\n",
            "           4       0.00      0.00      0.00         0\n",
            "           5       0.00      0.00      0.00         0\n",
            "           6       0.00      0.00      0.00         0\n",
            "           7       0.00      0.00      0.00         0\n",
            "           8       0.00      0.00      0.00         0\n",
            "           9       0.00      0.00      0.00         0\n",
            "          10       0.00      0.00      0.00         0\n",
            "          11       0.00      0.00      0.00         0\n",
            "          12       0.00      0.00      0.00         0\n",
            "          13       0.00      0.00      0.00         0\n",
            "          14       0.00      0.00      0.00         0\n",
            "          15       0.00      0.00      0.00         0\n",
            "          16       0.00      0.00      0.00         0\n",
            "          17       0.00      0.00      0.00         0\n",
            "          18       0.00      0.00      0.00         0\n",
            "          19       0.00      0.00      0.00         0\n",
            "          20       0.00      0.00      0.00         0\n",
            "          21       0.00      0.00      0.00         0\n",
            "          22       0.00      0.00      0.00         0\n",
            "          23       0.00      0.00      0.00         0\n",
            "          26       0.00      0.00      0.00         0\n",
            "          28       0.00      0.00      0.00         0\n",
            "          30       0.00      0.00      0.00         0\n",
            "          31       0.00      0.00      0.00         0\n",
            "          34       0.00      0.00      0.00         0\n",
            "          35       0.00      0.00      0.00         0\n",
            "          37       0.00      0.00      0.00         0\n",
            "          59       0.00      0.00      0.00         0\n",
            "          77       0.00      0.00      0.00         0\n",
            "\n",
            "    accuracy                           0.08       201\n",
            "   macro avg       0.03      0.00      0.00       201\n",
            "weighted avg       1.00      0.08      0.16       201\n",
            "\n"
          ]
        },
        {
          "output_type": "stream",
          "name": "stderr",
          "text": [
            "/usr/local/lib/python3.7/dist-packages/sklearn/metrics/_classification.py:1308: UndefinedMetricWarning: Recall and F-score are ill-defined and being set to 0.0 in labels with no true samples. Use `zero_division` parameter to control this behavior.\n",
            "  _warn_prf(average, modifier, msg_start, len(result))\n",
            "/usr/local/lib/python3.7/dist-packages/sklearn/metrics/_classification.py:1308: UndefinedMetricWarning: Recall and F-score are ill-defined and being set to 0.0 in labels with no true samples. Use `zero_division` parameter to control this behavior.\n",
            "  _warn_prf(average, modifier, msg_start, len(result))\n",
            "/usr/local/lib/python3.7/dist-packages/sklearn/metrics/_classification.py:1308: UndefinedMetricWarning: Recall and F-score are ill-defined and being set to 0.0 in labels with no true samples. Use `zero_division` parameter to control this behavior.\n",
            "  _warn_prf(average, modifier, msg_start, len(result))\n"
          ]
        }
      ]
    },
    {
      "cell_type": "code",
      "metadata": {
        "colab": {
          "base_uri": "https://localhost:8080/"
        },
        "id": "wJ5u6negSW_0",
        "outputId": "4d7195a3-642e-460a-c0cd-8ca04eefa675"
      },
      "source": [
        "# Getting input from user\n",
        "print(\"\\nMAKING PREDICTION ON SINGLE INSTANCE USING THREE MODELS THAT WE HAVE BUILT\")\n",
        "reviewNo = int(input(\"\\nEnter the review number whose sentiment is to be predcited\"))\n",
        "reviewText = X[reviewNo]\n",
        "print(\"\\nCONTENT OF THE REVIEW CHOSEN IS\")\n",
        "print(reviewText)\n",
        "\n",
        "# Converting text to numeric form\n",
        "    #Using the tokenizer built earlier\n",
        "#Since we have trained with a list of reviews and now we are feeding in a string, we need to apply \"text_to_word_sequence\" before tokenizing\n",
        "reviewProcessed = tokenizer.texts_to_sequences(reviewText)\n",
        "print(\"\\nINTERGER SEQUENCE OF THE REVIEW CHOSEN IS\")\n",
        "print(reviewProcessed)\n",
        "\n",
        "flat_list = []\n",
        "for sublist in reviewProcessed:\n",
        "    for item in sublist:\n",
        "        flat_list.append(item)\n",
        "#Making the entire items as a single list\n",
        "flat_list = [flat_list]\n",
        "#Padding to fit into model\n",
        "reviewSequence = pad_sequences(flat_list, padding='post', maxlen=maxlen)"
      ],
      "execution_count": 303,
      "outputs": [
        {
          "output_type": "stream",
          "name": "stdout",
          "text": [
            "\n",
            "MAKING PREDICTION ON SINGLE INSTANCE USING THREE MODELS THAT WE HAVE BUILT\n",
            "\n",
            "Enter the review number whose sentiment is to be predcited7\n",
            "\n",
            "CONTENT OF THE REVIEW CHOSEN IS\n",
            "Udah punya akun mau login kalimatnya aduh timeout Lah ini kai access atau lagu dangdut Kok pake aduh aduh segala Ini keburu mau pesen tiket maaak \n",
            "\n",
            "INTERGER SEQUENCE OF THE REVIEW CHOSEN IS\n",
            "[[], [2201], [], [], [], [1424], [], [], [], [], [], [], [], [], [], [], [], [], [], [], [], [], [352], [1740], [], [], [], [], [], [1740], [], [], [], [], [], [], [], [], [2201], [], [], [], [], [1740], [], [], [], [], [], [], [], [], [], [], [1740], [], [1740], [], [], [], [1740], [], [], [], [], [], [], [], [], [], [], [], [], [], [], [], [352], [], [], [2201], [], [], [352], [2201], [], [], [], [], [], [], [], [1424], [], [], [], [], [], [2201], [], [], [], [], [2201], [], [], [], [], [], [352], [], [], [], [], [1740], [], [1740], [], [], [], [], [], [], [], [], [], [], [], [], [1424], [], [], [], [], [], [], [1740], [], [], [], [], [], [], [], [], [], []]\n"
          ]
        }
      ]
    }
  ]
}